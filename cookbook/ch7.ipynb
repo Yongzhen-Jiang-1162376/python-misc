{
 "cells": [
  {
   "cell_type": "code",
   "execution_count": 1,
   "id": "a1fd9b73-4ffd-4b38-899c-38a5a3d3e6c5",
   "metadata": {},
   "outputs": [
    {
     "name": "stdout",
     "output_type": "stream",
     "text": [
      "1.0\n",
      "1.5\n",
      "2.0\n"
     ]
    }
   ],
   "source": [
    "def avg(first, *rest):\n",
    "    return (first+ sum(rest)) / (1 + len(rest))\n",
    "\n",
    "print(avg(1))\n",
    "print(avg(1, 2))\n",
    "print(avg(1, 2, 3))"
   ]
  },
  {
   "cell_type": "code",
   "execution_count": 16,
   "id": "5749ad8e-908c-487c-aebd-03723e2a3faf",
   "metadata": {},
   "outputs": [
    {
     "name": "stdout",
     "output_type": "stream",
     "text": [
      "<item size=\"large\" quantity=\"6\">Albatross</item>\n",
      "\n",
      "<p>&lt;spam&gt;</p>\n"
     ]
    }
   ],
   "source": [
    "import html\n",
    "def make_element(name, value, **attrs):\n",
    "    keyvals = [' %s=\"%s\"' % item for item in attrs.items()]\n",
    "    attr_str = ''.join(keyvals)\n",
    "    element = '<{name}{attrs}>{value}</{name}>'.format(\n",
    "                    name=name,\n",
    "                    attrs=attr_str,\n",
    "                    value=html.escape(value)\n",
    "    )\n",
    "    return element\n",
    "\n",
    "print(make_element('item', 'Albatross', size='large', quantity=6))\n",
    "print()\n",
    "print(make_element('p', '<spam>'))"
   ]
  },
  {
   "cell_type": "code",
   "execution_count": 17,
   "id": "91065bfe-1222-4128-bfa7-93acf4ee04c7",
   "metadata": {},
   "outputs": [
    {
     "name": "stdout",
     "output_type": "stream",
     "text": [
      "<item size=\"large\" quantity=\"6\">Albatross</item>\n",
      "\n",
      "<p>&lt;spam&gt;</p>\n"
     ]
    }
   ],
   "source": [
    "import html\n",
    "def make_element(name, value, **attrs):\n",
    "    keyvals = [f' {item}=\"{value}\"' for item, value in attrs.items()]\n",
    "    attr_str = ''.join(keyvals)\n",
    "    value_escaped = html.escape(value)\n",
    "    element = f'<{name}{attr_str}>{value_escaped}</{name}>'\n",
    "    return element\n",
    "\n",
    "print(make_element('item', 'Albatross', size='large', quantity=6))\n",
    "print()\n",
    "print(make_element('p', '<spam>'))"
   ]
  },
  {
   "cell_type": "code",
   "execution_count": 4,
   "id": "4d578abe-f7b0-49e3-9d12-363d78a9c8f9",
   "metadata": {},
   "outputs": [
    {
     "name": "stdout",
     "output_type": "stream",
     "text": [
      "OrderedDict({'a': <Parameter \"a\">, 'b': <Parameter \"b\">, 'c': <Parameter \"*c\">, 'd': <Parameter \"d\">, 'e': <Parameter \"e=10\">})\n",
      "a\n",
      "b\n",
      "*c\n",
      "d\n",
      "e=10\n"
     ]
    }
   ],
   "source": [
    "from inspect import signature\n",
    "\n",
    "def foo(a, b, *c, d, e=10):\n",
    "    pass\n",
    "\n",
    "sig = signature(foo)\n",
    "print(sig.parameters)\n",
    "for param in sig.parameters.values():\n",
    "    print(param)\n"
   ]
  },
  {
   "cell_type": "code",
   "execution_count": 6,
   "id": "fec28aa1-538a-490f-982c-356f8b9e83e0",
   "metadata": {},
   "outputs": [],
   "source": [
    "def recv(maxsize, *, block):\n",
    "    # Receives a message\n",
    "    pass\n",
    "\n",
    "# recv(1024, True)\n",
    "recv(1024, block=True)\n"
   ]
  },
  {
   "cell_type": "code",
   "execution_count": 9,
   "id": "3ab86832-dee8-4cc3-85da-95a45f2c7852",
   "metadata": {},
   "outputs": [
    {
     "name": "stdout",
     "output_type": "stream",
     "text": [
      "<class 'tuple'>\n",
      "(1, 5, 2, -5, 10)\n",
      "-5\n",
      "<class 'tuple'>\n",
      "(1, 5, 2, -5, 10)\n",
      "0\n",
      "<class 'tuple'>\n",
      "(1, 5, 2, -5, 10)\n",
      "-5\n",
      "<class 'tuple'>\n",
      "(1, 5, 2, -5, 10)\n",
      "-4\n",
      "<class 'tuple'>\n",
      "(1, 5, 2, -5, 10)\n",
      "-5\n"
     ]
    }
   ],
   "source": [
    "def minimum(*values, clip=None):\n",
    "    print(type(values))\n",
    "    print(values)\n",
    "    m = min(values)\n",
    "    if clip is not None:\n",
    "        m = clip if clip > m else m\n",
    "    return m\n",
    "\n",
    "print(minimum(1, 5, 2, -5, 10))\n",
    "print(minimum(1, 5, 2, -5, 10, clip = 0))\n",
    "print(minimum(1, 5, 2, -5, 10, clip = -5))\n",
    "print(minimum(1, 5, 2, -5, 10, clip = -4))\n",
    "print(minimum(1, 5, 2, -5, 10, clip = -6))"
   ]
  },
  {
   "cell_type": "code",
   "execution_count": 12,
   "id": "0d7b8e3c-b576-42af-b326-badffeb719d2",
   "metadata": {},
   "outputs": [
    {
     "name": "stdout",
     "output_type": "stream",
     "text": [
      "Help on function add in module __main__:\n",
      "\n",
      "add(x: int, y: int) -> int\n",
      "\n",
      "None\n",
      "{'x': <class 'int'>, 'y': <class 'int'>, 'return': <class 'int'>}\n"
     ]
    }
   ],
   "source": [
    "def add(x:int, y:int) -> int:\n",
    "    return x + y\n",
    "\n",
    "print(help(add))\n",
    "print(add.__annotations__)"
   ]
  },
  {
   "cell_type": "code",
   "execution_count": 13,
   "id": "82a5419d-8271-4f73-97b0-058e8ddd603b",
   "metadata": {},
   "outputs": [
    {
     "name": "stdout",
     "output_type": "stream",
     "text": [
      "1\n",
      "2\n",
      "3\n"
     ]
    }
   ],
   "source": [
    "def myfun():\n",
    "    return 1, 2, 3\n",
    "\n",
    "a, b, c = myfun()\n",
    "print(a)\n",
    "print(b)\n",
    "print(c)"
   ]
  },
  {
   "cell_type": "code",
   "execution_count": 14,
   "id": "d87e0cc2-d333-444d-bca4-3afad806288e",
   "metadata": {},
   "outputs": [
    {
     "name": "stdout",
     "output_type": "stream",
     "text": [
      "1 42\n",
      "1 2\n"
     ]
    }
   ],
   "source": [
    "def spam(a, b=42):\n",
    "    print(a, b)\n",
    "\n",
    "spam(1)\n",
    "spam(1, 2)"
   ]
  },
  {
   "cell_type": "code",
   "execution_count": 15,
   "id": "4e0fa464-e56f-4485-901f-cb5bd9d74928",
   "metadata": {},
   "outputs": [],
   "source": [
    "def spam(a, b=None):\n",
    "    if b is None:\n",
    "        b = []"
   ]
  },
  {
   "cell_type": "code",
   "execution_count": 17,
   "id": "9e09751d-32ca-46bf-ae31-4a046cae0a5e",
   "metadata": {},
   "outputs": [
    {
     "name": "stdout",
     "output_type": "stream",
     "text": [
      "No b value supplied\n",
      "2\n",
      "None\n"
     ]
    }
   ],
   "source": [
    "_no_value = object()\n",
    "\n",
    "def spam(a, b=_no_value):\n",
    "    if b is _no_value:\n",
    "        print('No b value supplied')\n",
    "    else:\n",
    "        print(b)\n",
    "\n",
    "spam(1)\n",
    "spam(1, 2)\n",
    "spam(1, None)"
   ]
  },
  {
   "cell_type": "code",
   "execution_count": 18,
   "id": "ccf42769-a157-4037-b05c-f6ef9c5d700a",
   "metadata": {},
   "outputs": [
    {
     "name": "stdout",
     "output_type": "stream",
     "text": [
      "<class 'object'>\n"
     ]
    }
   ],
   "source": [
    "print(type(object()))"
   ]
  },
  {
   "cell_type": "code",
   "execution_count": 23,
   "id": "ceefd844-b325-4d3e-9daa-c6a045ebe767",
   "metadata": {},
   "outputs": [
    {
     "name": "stderr",
     "output_type": "stream",
     "text": [
      "<>:3: SyntaxWarning: \"is\" with 'tuple' literal. Did you mean \"==\"?\n",
      "<>:3: SyntaxWarning: \"is\" with 'tuple' literal. Did you mean \"==\"?\n",
      "C:\\Users\\jiangyz\\AppData\\Local\\Temp\\ipykernel_7284\\3149572843.py:3: SyntaxWarning: \"is\" with 'tuple' literal. Did you mean \"==\"?\n",
      "  () is object()\n"
     ]
    },
    {
     "data": {
      "text/plain": [
       "False"
      ]
     },
     "execution_count": 23,
     "metadata": {},
     "output_type": "execute_result"
    }
   ],
   "source": [
    "None is object()\n",
    "[] is object()\n",
    "() is object()\n",
    "{} is object()\n",
    "set() is object()"
   ]
  },
  {
   "cell_type": "code",
   "execution_count": 24,
   "id": "228fdbcd-817b-46b7-956f-ac49e79e65a3",
   "metadata": {},
   "outputs": [
    {
     "name": "stdout",
     "output_type": "stream",
     "text": [
      "1 42\n",
      "1 42\n"
     ]
    }
   ],
   "source": [
    "x= 42\n",
    "def spam(a, b=x):\n",
    "    print(a, b)\n",
    "\n",
    "spam(1)\n",
    "x = 23\n",
    "spam(1)"
   ]
  },
  {
   "cell_type": "code",
   "execution_count": 25,
   "id": "a3e92127-5701-41a1-9de0-64490f860675",
   "metadata": {},
   "outputs": [
    {
     "name": "stdout",
     "output_type": "stream",
     "text": [
      "[]\n",
      "[]\n",
      "[99, 'Yow!']\n",
      "[99, 'Yow!']\n"
     ]
    },
    {
     "data": {
      "text/plain": [
       "[99, 'Yow!']"
      ]
     },
     "execution_count": 25,
     "metadata": {},
     "output_type": "execute_result"
    }
   ],
   "source": [
    "def spam(a, b=[]):\n",
    "    print(b)\n",
    "    return b\n",
    "\n",
    "x = spam(1)\n",
    "print(x)\n",
    "\n",
    "x.append(99)\n",
    "x.append('Yow!')\n",
    "print(x)\n",
    "\n",
    "spam(1)"
   ]
  },
  {
   "cell_type": "code",
   "execution_count": 29,
   "id": "e775481f-4efb-485a-af60-cc19fb0e5040",
   "metadata": {},
   "outputs": [
    {
     "name": "stdout",
     "output_type": "stream",
     "text": [
      "5\n",
      "helloworld\n"
     ]
    }
   ],
   "source": [
    "add = lambda x, y: x + y\n",
    "print(add(2, 3))\n",
    "print(add('hello', 'world'))"
   ]
  },
  {
   "cell_type": "code",
   "execution_count": 32,
   "id": "8c3b3d05-9a0a-4e6b-a892-c59e13fcb621",
   "metadata": {},
   "outputs": [
    {
     "data": {
      "text/plain": [
       "['Ned Batchelder', 'David Beazley', 'Raymond Hettinger', 'Brian Jones']"
      ]
     },
     "execution_count": 32,
     "metadata": {},
     "output_type": "execute_result"
    }
   ],
   "source": [
    "names = ['David Beazley', 'Brian Jones', 'Raymond Hettinger', 'Ned Batchelder']\n",
    "x = [name.split()[-1].lower() for name in names]\n",
    "sorted(names, key=lambda name: name.split()[-1].lower())\n"
   ]
  },
  {
   "cell_type": "code",
   "execution_count": 33,
   "id": "2032c5ff-ea9b-4aa2-9e58-a19ec268369c",
   "metadata": {},
   "outputs": [
    {
     "name": "stdout",
     "output_type": "stream",
     "text": [
      "30\n",
      "30\n"
     ]
    }
   ],
   "source": [
    "x =10\n",
    "a = lambda y: x + y\n",
    "x = 20\n",
    "b = lambda y: x + y\n",
    "print(a(10))\n",
    "print(b(10))"
   ]
  },
  {
   "cell_type": "code",
   "execution_count": 34,
   "id": "1250652b-e003-4e45-b739-45d8a43c680d",
   "metadata": {},
   "outputs": [
    {
     "name": "stdout",
     "output_type": "stream",
     "text": [
      "20\n",
      "30\n"
     ]
    }
   ],
   "source": [
    "x = 10\n",
    "a = lambda y, x=x: x + y\n",
    "x = 20\n",
    "b = lambda y, x=x: x + y\n",
    "print(a(10))\n",
    "print(b(10))"
   ]
  },
  {
   "cell_type": "code",
   "execution_count": 36,
   "id": "75630ee9-7daa-4ae9-a738-74f0b7386ceb",
   "metadata": {},
   "outputs": [
    {
     "name": "stdout",
     "output_type": "stream",
     "text": [
      "4\n",
      "4\n",
      "4\n",
      "4\n",
      "4\n"
     ]
    }
   ],
   "source": [
    "funcs = [lambda x: x + n for n in range(5)]\n",
    "for f in funcs:\n",
    "    print(f(0))\n"
   ]
  },
  {
   "cell_type": "code",
   "execution_count": 37,
   "id": "e5a6071a-6264-4fb7-b32e-7abb950a0ed3",
   "metadata": {},
   "outputs": [
    {
     "name": "stdout",
     "output_type": "stream",
     "text": [
      "0\n",
      "1\n",
      "2\n",
      "3\n",
      "4\n"
     ]
    }
   ],
   "source": [
    "funcs = [lambda x, n=n: x + n for n in range(5)]\n",
    "for f in funcs:\n",
    "    print(f(0))"
   ]
  },
  {
   "cell_type": "code",
   "execution_count": 41,
   "id": "80417a09-0b00-4fb1-ac95-866dd145c8db",
   "metadata": {},
   "outputs": [
    {
     "name": "stdout",
     "output_type": "stream",
     "text": [
      "n= 0\n",
      "n= 10\n",
      "n= 10\n",
      "n= 34\n"
     ]
    }
   ],
   "source": [
    "def sample():\n",
    "    n = 0\n",
    "\n",
    "    def func():\n",
    "        print('n=', n)\n",
    "\n",
    "    def get_n():\n",
    "        return n\n",
    "\n",
    "    def set_n(value):\n",
    "        nonlocal n\n",
    "        n = value\n",
    "\n",
    "    func.get_n = get_n\n",
    "    func.set_n = set_n\n",
    "    return func\n",
    "\n",
    "f = sample()\n",
    "f()\n",
    "f.set_n(10)\n",
    "f()\n",
    "f.get_n()\n",
    "f()\n",
    "f.set_n(34)\n",
    "f()"
   ]
  },
  {
   "cell_type": "code",
   "execution_count": null,
   "id": "99d7e1bb-5f5b-44ee-aff6-f1e63150093f",
   "metadata": {},
   "outputs": [],
   "source": []
  }
 ],
 "metadata": {
  "kernelspec": {
   "display_name": "Python 3 (ipykernel)",
   "language": "python",
   "name": "python3"
  },
  "language_info": {
   "codemirror_mode": {
    "name": "ipython",
    "version": 3
   },
   "file_extension": ".py",
   "mimetype": "text/x-python",
   "name": "python",
   "nbconvert_exporter": "python",
   "pygments_lexer": "ipython3",
   "version": "3.12.7"
  }
 },
 "nbformat": 4,
 "nbformat_minor": 5
}

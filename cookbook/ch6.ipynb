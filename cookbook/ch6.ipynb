{
 "cells": [
  {
   "cell_type": "code",
   "execution_count": 14,
   "id": "bfc114dd-401b-4b7a-bd83-cb56702fe4f9",
   "metadata": {},
   "outputs": [
    {
     "name": "stdout",
     "output_type": "stream",
     "text": [
      "AA,39.48,6/11/2007,9:36am,-0.18,181800\n",
      "AIG,71.38,6/11/2007,9:36am,-0.15,195500\n",
      "AXP,62.58,6/11/2007,9:36am,-0.46,935000\n",
      "BA,98.31,6/11/2007,9:36am,+0.12,104800\n",
      "C,53.08,6/11/2007,9:36am,-0.25,360900\n",
      "CAT,78.29,6/11/2007,9:36am,-0.23,225400\n"
     ]
    }
   ],
   "source": [
    "import csv\n",
    "from collections import namedtuple\n",
    "\n",
    "with open('stock.csv') as f:\n",
    "    f_csv = csv.reader(f)\n",
    "    headers = next(f_csv)\n",
    "    Row = namedtuple('Row', headers)\n",
    "    for r in f_csv:\n",
    "        row = Row(*r)\n",
    "        # print(','.join((row.Symbol, row.Price, row.Date, row.Time, row.Change, row.Volume)))\n",
    "        print(','.join(list(row)))\n",
    "        "
   ]
  },
  {
   "cell_type": "code",
   "execution_count": 7,
   "id": "18c81ae6-8016-4a83-ab5a-5292bb152d71",
   "metadata": {},
   "outputs": [
    {
     "name": "stdout",
     "output_type": "stream",
     "text": [
      "Record(Name='Larry Jiang', Age=45, Country='China') Larry Jiang 45 China\n",
      "Record(Name='Judy wang', Age=28, Country='Hong Kong')\n"
     ]
    }
   ],
   "source": [
    "from collections import namedtuple\n",
    "nt = namedtuple('Record', ('Name', 'Age', 'Country'))\n",
    "t1 = ('Larry Jiang', 45, 'China')\n",
    "t2 = ('Judy wang', 28, 'Hong Kong')\n",
    "row1 = nt(*t1)\n",
    "row2 = nt(*t2)\n",
    "print(row1, row1.Name, row1.Age, row1.Country)\n",
    "print(row2)"
   ]
  },
  {
   "cell_type": "code",
   "execution_count": 27,
   "id": "900fd49d-559d-48ec-9d6a-d1000b37e472",
   "metadata": {},
   "outputs": [
    {
     "name": "stdout",
     "output_type": "stream",
     "text": [
      "['AA', 39.48, datetime.datetime(2007, 11, 6, 0, 0), datetime.datetime(1900, 1, 1, 9, 36), -0.18, 181800]\n",
      "['AIG', 71.38, datetime.datetime(2007, 11, 6, 0, 0), datetime.datetime(1900, 1, 1, 9, 36), -0.15, 195500]\n",
      "['AXP', 62.58, datetime.datetime(2007, 11, 6, 0, 0), datetime.datetime(1900, 1, 1, 9, 36), -0.46, 935000]\n",
      "['BA', 98.31, datetime.datetime(2007, 11, 6, 0, 0), datetime.datetime(1900, 1, 1, 9, 36), 0.12, 104800]\n",
      "['C', 53.08, datetime.datetime(2007, 11, 6, 0, 0), datetime.datetime(1900, 1, 1, 9, 36), -0.25, 360900]\n",
      "['CAT', 78.29, datetime.datetime(2007, 11, 6, 0, 0), datetime.datetime(1900, 1, 1, 9, 36), -0.23, 225400]\n"
     ]
    }
   ],
   "source": [
    "from collections import namedtuple\n",
    "from datetime import datetime\n",
    "import csv\n",
    "\n",
    "def convert_to_date(s):\n",
    "    # print(s)\n",
    "    # print('converting to date')\n",
    "    return datetime.strptime(s, '%d/%m/%Y')\n",
    "\n",
    "def convert_to_time(s):\n",
    "    # print(s)\n",
    "    # print('converting to time')\n",
    "    return datetime.strptime(s, '%I:%M%p')\n",
    "\n",
    "col_types = [str, float, convert_to_date, convert_to_time, float, int]\n",
    "\n",
    "with open('stock.csv') as f:\n",
    "    f_csv = csv.reader(f)\n",
    "    headers = next(f_csv)\n",
    "    for row in f_csv:\n",
    "        # print(row)\n",
    "        row = [convert(value) for convert,value in zip(col_types, row)]\n",
    "        print(row)"
   ]
  },
  {
   "cell_type": "code",
   "execution_count": 22,
   "id": "2b6444d7-b263-40ed-abc9-b6642ffaa9a7",
   "metadata": {},
   "outputs": [
    {
     "name": "stdout",
     "output_type": "stream",
     "text": [
      "9:36am\n",
      "converting to time\n"
     ]
    },
    {
     "data": {
      "text/plain": [
       "datetime.datetime(1900, 1, 1, 9, 36)"
      ]
     },
     "execution_count": 22,
     "metadata": {},
     "output_type": "execute_result"
    }
   ],
   "source": [
    "def convert_to_time(s):\n",
    "    print(s)\n",
    "    print('converting to time')\n",
    "    return datetime.strptime(s, '%I:%M%p')\n",
    "\n",
    "convert_to_time('9:36am')"
   ]
  },
  {
   "cell_type": "code",
   "execution_count": 21,
   "id": "4b8c78a0-530c-4374-8c2d-46408c66397e",
   "metadata": {},
   "outputs": [
    {
     "name": "stdout",
     "output_type": "stream",
     "text": [
      "6/11/2007\n",
      "converting to date\n"
     ]
    },
    {
     "data": {
      "text/plain": [
       "datetime.datetime(2007, 11, 6, 0, 0)"
      ]
     },
     "execution_count": 21,
     "metadata": {},
     "output_type": "execute_result"
    }
   ],
   "source": [
    "def convert_to_date(s):\n",
    "    print(s)\n",
    "    print('converting to date')\n",
    "    return datetime.strptime(s, '%d/%m/%Y')\n",
    "\n",
    "convert_to_date('6/11/2007')"
   ]
  },
  {
   "cell_type": "code",
   "execution_count": 40,
   "id": "0ddc819c-432f-4fc4-b343-acf7e9ba4d0b",
   "metadata": {},
   "outputs": [
    {
     "name": "stdout",
     "output_type": "stream",
     "text": [
      "[{'Symbol': 'AA', 'Price': 39.48, 'DateTime': datetime.datetime(2007, 11, 6, 9, 36), 'Change': -0.18, 'Volume': 181800}, {'Symbol': 'AIG', 'Price': 71.38, 'DateTime': datetime.datetime(2007, 11, 6, 9, 36), 'Change': -0.15, 'Volume': 195500}, {'Symbol': 'AXP', 'Price': 62.58, 'DateTime': datetime.datetime(2007, 11, 6, 9, 36), 'Change': -0.46, 'Volume': 935000}, {'Symbol': 'BA', 'Price': 98.31, 'DateTime': datetime.datetime(2007, 11, 6, 9, 36), 'Change': 0.12, 'Volume': 104800}, {'Symbol': 'C', 'Price': 53.08, 'DateTime': datetime.datetime(2007, 11, 6, 9, 36), 'Change': -0.25, 'Volume': 360900}, {'Symbol': 'CAT', 'Price': 78.29, 'DateTime': datetime.datetime(2007, 11, 6, 9, 36), 'Change': -0.23, 'Volume': 225400}]\n",
      "\n",
      "\n",
      "{'Symbol': 'AA', 'Price': 39.48, 'DateTime': datetime.datetime(2007, 11, 6, 9, 36), 'Change': -0.18, 'Volume': 181800}\n",
      "{'Symbol': 'AIG', 'Price': 71.38, 'DateTime': datetime.datetime(2007, 11, 6, 9, 36), 'Change': -0.15, 'Volume': 195500}\n",
      "{'Symbol': 'AXP', 'Price': 62.58, 'DateTime': datetime.datetime(2007, 11, 6, 9, 36), 'Change': -0.46, 'Volume': 935000}\n",
      "{'Symbol': 'BA', 'Price': 98.31, 'DateTime': datetime.datetime(2007, 11, 6, 9, 36), 'Change': 0.12, 'Volume': 104800}\n",
      "{'Symbol': 'C', 'Price': 53.08, 'DateTime': datetime.datetime(2007, 11, 6, 9, 36), 'Change': -0.25, 'Volume': 360900}\n",
      "{'Symbol': 'CAT', 'Price': 78.29, 'DateTime': datetime.datetime(2007, 11, 6, 9, 36), 'Change': -0.23, 'Volume': 225400}\n"
     ]
    }
   ],
   "source": [
    "from collections import namedtuple\n",
    "from datetime import datetime\n",
    "import csv\n",
    "\n",
    "result = []\n",
    "\n",
    "def parse_line(line):\n",
    "    return {\n",
    "        'Symbol': line.Symbol,\n",
    "        'Price': float(line.Price),\n",
    "        'DateTime': datetime.strptime(f'{line.Date} {line.Time}', '%d/%m/%Y %I:%M%p'),\n",
    "        'Change': float(line.Change),\n",
    "        'Volume': int(line.Volume),\n",
    "    }\n",
    "\n",
    "with open('stock.csv') as f:\n",
    "    f_csv = csv.reader(f)\n",
    "    headers = next(f_csv)\n",
    "    Row = namedtuple('Stock', headers)\n",
    "    for r in f_csv:\n",
    "        # print(type(r), r)\n",
    "        # print(type(r))\n",
    "        row = Row(*r)\n",
    "        result.append(parse_line(row))\n",
    "\n",
    "print(result)\n",
    "\n",
    "print()\n",
    "print()\n",
    "\n",
    "for r in result:\n",
    "    print(r)"
   ]
  },
  {
   "cell_type": "code",
   "execution_count": 43,
   "id": "8f4ccf19-d909-4a47-b692-9eaab3eb2588",
   "metadata": {},
   "outputs": [
    {
     "name": "stdout",
     "output_type": "stream",
     "text": [
      "{'name': 'ACME', 'shares': 100, 'price': 542.23}\n",
      "\n",
      "{\"name\": \"ACME\", \"shares\": 100, \"price\": 542.23}\n"
     ]
    }
   ],
   "source": [
    "import json\n",
    "data = {\n",
    "    'name': 'ACME',\n",
    "    'shares': 100,\n",
    "    'price': 542.23\n",
    "}\n",
    "print(data)\n",
    "json_str = json.dumps(data)\n",
    "print()\n",
    "print(json_str)"
   ]
  },
  {
   "cell_type": "code",
   "execution_count": 4,
   "id": "317ff29c-b1a3-45ba-aa82-45a0e997dc1e",
   "metadata": {},
   "outputs": [
    {
     "name": "stdout",
     "output_type": "stream",
     "text": [
      "false\n",
      "true\n",
      "{'a': True, 'b': 'Hello', 'c': None}\n",
      "\n",
      "{\"a\": true, \"b\": \"Hello\", \"c\": null}\n"
     ]
    }
   ],
   "source": [
    "import json\n",
    "\n",
    "print(json.dumps(False))\n",
    "print(json.dumps(True))\n",
    "\n",
    "d = {\n",
    "    'a': True,\n",
    "    'b': 'Hello',\n",
    "    'c': None\n",
    "}\n",
    "print(d)\n",
    "\n",
    "print()\n",
    "print(json.dumps(d))"
   ]
  },
  {
   "cell_type": "code",
   "execution_count": 10,
   "id": "833c1314-6ec5-4b8b-90a1-4bb03235dd5b",
   "metadata": {},
   "outputs": [
    {
     "name": "stdout",
     "output_type": "stream",
     "text": [
      "<class 'str'>\n",
      "{\n",
      "    \"ip\": \"103.240.52.49\",\n",
      "    \"network\": \"103.240.52.0/22\",\n",
      "    \"version\": \"IPv4\",\n",
      "    \"city\": \"Lincoln\",\n",
      "    \"region\": \"Canterbury\",\n",
      "    \"region_code\": \"CAN\",\n",
      "    \"country\": \"NZ\",\n",
      "    \"country_name\": \"New Zealand\",\n",
      "    \"country_code\": \"NZ\",\n",
      "    \"country_code_iso3\": \"NZL\",\n",
      "    \"country_capital\": \"Wellington\",\n",
      "    \"country_tld\": \".nz\",\n",
      "    \"continent_code\": \"OC\",\n",
      "    \"in_eu\": false,\n",
      "    \"postal\": \"7647\",\n",
      "    \"latitude\": -43.6518,\n",
      "    \"longitude\": 172.4877,\n",
      "    \"timezone\": \"Pacific/Auckland\",\n",
      "    \"utc_offset\": \"+1300\",\n",
      "    \"country_calling_code\": \"+64\",\n",
      "    \"currency\": \"NZD\",\n",
      "    \"currency_name\": \"Dollar\",\n",
      "    \"languages\": \"en-NZ,mi\",\n",
      "    \"country_area\": 268680.0,\n",
      "    \"country_population\": 4885500,\n",
      "    \"asn\": \"AS38319\",\n",
      "    \"org\": \"Lincoln University, Canterbury, New Zealand\"\n",
      "}\n",
      "{'ip': '103.240.52.49', 'network': '103.240.52.0/22', 'version': 'IPv4', 'city': 'Lincoln', 'region': 'Canterbury', 'region_code': 'CAN', 'country': 'NZ', 'country_name': 'New Zealand', 'country_code': 'NZ', 'country_code_iso3': 'NZL', 'country_capital': 'Wellington', 'country_tld': '.nz', 'continent_code': 'OC', 'in_eu': False, 'postal': '7647', 'latitude': -43.6518, 'longitude': 172.4877, 'timezone': 'Pacific/Auckland', 'utc_offset': '+1300', 'country_calling_code': '+64', 'currency': 'NZD', 'currency_name': 'Dollar', 'languages': 'en-NZ,mi', 'country_area': 268680.0, 'country_population': 4885500, 'asn': 'AS38319', 'org': 'Lincoln University, Canterbury, New Zealand'}\n",
      "\n",
      "{'asn': 'AS38319',\n",
      " 'city': 'Lincoln',\n",
      " 'continent_code': 'OC',\n",
      " 'country': 'NZ',\n",
      " 'country_area': 268680.0,\n",
      " 'country_calling_code': '+64',\n",
      " 'country_capital': 'Wellington',\n",
      " 'country_code': 'NZ',\n",
      " 'country_code_iso3': 'NZL',\n",
      " 'country_name': 'New Zealand',\n",
      " 'country_population': 4885500,\n",
      " 'country_tld': '.nz',\n",
      " 'currency': 'NZD',\n",
      " 'currency_name': 'Dollar',\n",
      " 'in_eu': False,\n",
      " 'ip': '103.240.52.49',\n",
      " 'languages': 'en-NZ,mi',\n",
      " 'latitude': -43.6518,\n",
      " 'longitude': 172.4877,\n",
      " 'network': '103.240.52.0/22',\n",
      " 'org': 'Lincoln University, Canterbury, New Zealand',\n",
      " 'postal': '7647',\n",
      " 'region': 'Canterbury',\n",
      " 'region_code': 'CAN',\n",
      " 'timezone': 'Pacific/Auckland',\n",
      " 'utc_offset': '+1300',\n",
      " 'version': 'IPv4'}\n"
     ]
    }
   ],
   "source": [
    "from urllib.request import urlopen\n",
    "import json\n",
    "\n",
    "u = urlopen('https://ipapi.co/json')\n",
    "\n",
    "s = u.read().decode('utf-8')\n",
    "print(type(s))\n",
    "print(s)\n",
    "\n",
    "resp = json.loads(s)\n",
    "print(resp)\n",
    "\n",
    "print()\n",
    "\n",
    "from pprint import pprint\n",
    "\n",
    "pprint(resp)"
   ]
  },
  {
   "cell_type": "code",
   "execution_count": 12,
   "id": "3241b511-f554-415f-8f95-4c866e3e269b",
   "metadata": {},
   "outputs": [
    {
     "name": "stdout",
     "output_type": "stream",
     "text": [
      "<class 'xml.etree.ElementTree.ElementTree'>\n",
      "\n",
      "Zero to Mastery: Python Monthly Newsletter 💻🐍\n",
      "Thu, 28 Nov 2024 04:43:05 +0000\n",
      "https://zerotomastery.io/blog/python-monthly-newsletter-november-2024/?utm_source=python-rss-feed\n",
      "\n",
      "Real Python: Continuous Integration and Deployment for Python With GitHub Actions\n",
      "Wed, 27 Nov 2024 14:00:00 +0000\n",
      "https://realpython.com/github-actions-python/\n",
      "\n",
      "PyPodcats: Episode 7: With Anna Makarudze\n",
      "Wed, 27 Nov 2024 12:00:00 +0000\n",
      "https://pypodcats.live/episodes/ep-7/\n",
      "\n",
      "Django Weblog: Django 6.x Steering Council Candidate Registration\n",
      "Wed, 27 Nov 2024 07:00:00 +0000\n",
      "https://www.djangoproject.com/weblog/2024/nov/27/django-6x-steering-council-candidate-registration/\n",
      "\n",
      "Brett Cannon: What the PSF Conduct WG does\n",
      "Tue, 26 Nov 2024 23:28:14 +0000\n",
      "https://snarky.ca/what-the-psf-conduct-wg-does/\n",
      "\n",
      "Kay Hayen: Nuitka Release 2.5\n",
      "Tue, 26 Nov 2024 23:00:00 +0000\n",
      "https://nuitka.net/posts/nuitka-release-25.html\n",
      "\n",
      "EuroPython Society: List of EPS Board Candidates for 2024/2025\n",
      "Tue, 26 Nov 2024 22:27:43 +0000\n",
      "https://www.europython-society.org/list-of-eps-board-candidates-for-2024-2025/\n",
      "\n",
      "PyCoder’s Weekly: Issue #657 (Nov. 26, 2024)\n",
      "Tue, 26 Nov 2024 19:30:00 +0000\n",
      "https://pycoders.com/issues/657\n",
      "\n",
      "Real Python: Managing Dependencies With Python Poetry\n",
      "Tue, 26 Nov 2024 14:00:00 +0000\n",
      "https://realpython.com/courses/managing-dependencies-with-poetry/\n",
      "\n",
      "Armin Ronacher: Constraints are Good: Python's Metadata Dilemma\n",
      "Tue, 26 Nov 2024 00:00:00 +0000\n",
      "http://lucumr.pocoo.org/2024/11/26/python-packaging-metadata\n",
      "\n",
      "Mike Driscoll: Black Friday Python Deals 2024\n",
      "Mon, 25 Nov 2024 18:57:09 +0000\n",
      "https://www.blog.pythonlibrary.org/2024/11/25/black-friday-python-deals-2024/\n",
      "\n",
      "Trey Hunner: New Python Jumpstart course\n",
      "Mon, 25 Nov 2024 16:08:08 +0000\n",
      "https://treyhunner.com/2024/11/new-python-jumpstart-course/\n",
      "\n",
      "Real Python: Speed Up Your Python Program With Concurrency\n",
      "Mon, 25 Nov 2024 14:00:00 +0000\n",
      "https://realpython.com/python-concurrency/\n",
      "\n",
      "Python Bytes: #411 TLS Client: Hello &lt;&lt;guitar solo&gt;&gt;\n",
      "Mon, 25 Nov 2024 08:00:00 +0000\n",
      "https://pythonbytes.fm/episodes/show/411/tls-client-hello-guitar-solo\n",
      "\n",
      "Zato Blog: SSH commands as API microservices\n",
      "Mon, 25 Nov 2024 08:00:00 +0000\n",
      "https://zato.io/en/blog/ssh-api-service.html\n",
      "\n",
      "Wingware: Wing Python IDE Version 10.0.7 - November 25, 2024\n",
      "Mon, 25 Nov 2024 01:00:00 +0000\n",
      "https://wingware.com/news/2024-11-25\n",
      "\n",
      "Hugo van Kemenade: A surprising thing about PyPI's BigQuery data\n",
      "Sun, 24 Nov 2024 20:45:31 +0000\n",
      "https://dev.to/hugovk/a-surprising-thing-about-pypis-bigquery-data-2g9o\n",
      "\n",
      "Django Weblog: 2024 Malcolm Tredinnick Memorial Prize awarded to Rachell Calhoun\n",
      "Sun, 24 Nov 2024 18:39:32 +0000\n",
      "https://www.djangoproject.com/weblog/2024/nov/24/2024-malcolm-tredinnick-memorial-prize-awarded-to-/\n",
      "\n",
      "Django Weblog: DjangoCon Europe 2026 call for organizers completed\n",
      "Sun, 24 Nov 2024 16:57:43 +0000\n",
      "https://www.djangoproject.com/weblog/2024/nov/24/djangocon-europe-2026-call-for-organizers-complete/\n",
      "\n",
      "Real Python: Python range(): Represent Numerical Ranges\n",
      "Sun, 24 Nov 2024 14:00:00 +0000\n",
      "https://realpython.com/python-range/\n",
      "\n",
      "Real Python: Efficient String Concatenation in Python\n",
      "Sun, 24 Nov 2024 14:00:00 +0000\n",
      "https://realpython.com/python-string-concatenation/\n",
      "\n",
      "Seth Michael Larson: How do I pay the publisher of a web page?\n",
      "Sun, 24 Nov 2024 00:00:00 +0000\n",
      "https://sethmlarson.dev/how-to-i-pay-for-a-web-page?utm_campaign=rss\n",
      "\n",
      "Real Python: How to Iterate Through a Dictionary in Python\n",
      "Sat, 23 Nov 2024 14:00:00 +0000\n",
      "https://realpython.com/iterate-through-dictionary-python/\n",
      "\n",
      "Eli Bendersky: GoMLX: ML in Go without Python\n",
      "Fri, 22 Nov 2024 23:00:29 +0000\n",
      "https://eli.thegreenplace.net/2024/gomlx-ml-in-go-without-python/\n",
      "\n",
      "EuroPython Society: 2024 General Assembly Announcement\n",
      "Fri, 22 Nov 2024 17:43:07 +0000\n",
      "https://www.europython-society.org/2024-general-assembly-announcement/\n",
      "\n"
     ]
    }
   ],
   "source": [
    "from urllib.request import urlopen\n",
    "from xml.etree.ElementTree import parse\n",
    "\n",
    "u = urlopen('https://planetpython.org/rss20.xml')\n",
    "doc = parse(u)\n",
    "\n",
    "print(type(doc))\n",
    "print()\n",
    "\n",
    "for item in doc.iterfind('channel/item'):\n",
    "    title = item.findtext('title')\n",
    "    date = item.findtext('pubDate')\n",
    "    link = item.findtext('link')\n",
    "\n",
    "    print(title)\n",
    "    print(date)\n",
    "    print(link)\n",
    "    print()\n"
   ]
  },
  {
   "cell_type": "code",
   "execution_count": 9,
   "id": "91bbf857-075d-4dda-bc04-c77813631a2c",
   "metadata": {},
   "outputs": [
    {
     "name": "stdout",
     "output_type": "stream",
     "text": [
      "60624 4356\n",
      "60623 3802\n",
      "60628 3547\n",
      "60620 3443\n",
      "60644 3190\n",
      "60651 3157\n",
      "60619 3139\n",
      "60621 3053\n",
      "60636 3039\n",
      "60609 2830\n",
      "60637 2786\n",
      "60617 2518\n",
      "60649 2034\n",
      "60612 2033\n",
      "60629 1995\n",
      "60608 1788\n",
      "60639 1259\n",
      "60632 1241\n",
      "60653 1138\n",
      "60643 1137\n",
      "60647 883\n",
      "60615 851\n",
      "60622 659\n",
      "60618 596\n",
      "60640 558\n",
      "60616 556\n",
      "60626 547\n",
      "60827 489\n",
      "60625 447\n",
      "60652 423\n",
      "60641 407\n",
      "60610 357\n",
      "60642 226\n",
      "60607 194\n",
      "60634 180\n",
      "60645 179\n",
      "60638 177\n",
      "60660 167\n",
      "60659 140\n",
      "60657 132\n",
      "60613 125\n",
      "60654 124\n",
      "60630 123\n",
      "60614 118\n",
      "60605 113\n",
      "60611 106\n",
      "60633 67\n",
      "60707 64\n",
      "60601 43\n",
      "60661 31\n",
      "60604 30\n",
      "60656 23\n",
      "60655 22\n",
      "60646 18\n",
      "60603 17\n",
      "60602 17\n",
      "60606 14\n",
      "60631 12\n",
      "None 4\n",
      "Execution time:  0.8794059753417969 seconds\n"
     ]
    }
   ],
   "source": [
    "import time\n",
    "from xml.etree.ElementTree import parse\n",
    "from collections import Counter\n",
    "\n",
    "st = time.time()\n",
    "\n",
    "victim_cases_by_zip = Counter()\n",
    "\n",
    "doc = parse('data/victims_of_homicides_and_non_fatal_shottings.xml')\n",
    "for victim_case in doc.iterfind('row/row'):\n",
    "    victim_cases_by_zip[victim_case.findtext('zip_code')] += 1\n",
    "for zipcode, num in victim_cases_by_zip.most_common():\n",
    "    print(zipcode, num)\n",
    "\n",
    "et = time.time()\n",
    "print('Execution time: ', et - st, 'seconds')"
   ]
  },
  {
   "cell_type": "code",
   "execution_count": 8,
   "id": "c0c07ed3-1769-44dc-8d36-b4f2be92352c",
   "metadata": {},
   "outputs": [
    {
     "name": "stdout",
     "output_type": "stream",
     "text": [
      "60624 4356\n",
      "60623 3802\n",
      "60628 3547\n",
      "60620 3443\n",
      "60644 3190\n",
      "60651 3157\n",
      "60619 3139\n",
      "60621 3053\n",
      "60636 3039\n",
      "60609 2830\n",
      "60637 2786\n",
      "60617 2518\n",
      "60649 2034\n",
      "60612 2033\n",
      "60629 1995\n",
      "60608 1788\n",
      "60639 1259\n",
      "60632 1241\n",
      "60653 1138\n",
      "60643 1137\n",
      "60647 883\n",
      "60615 851\n",
      "60622 659\n",
      "60618 596\n",
      "60640 558\n",
      "60616 556\n",
      "60626 547\n",
      "60827 489\n",
      "60625 447\n",
      "60652 423\n",
      "60641 407\n",
      "60610 357\n",
      "60642 226\n",
      "60607 194\n",
      "60634 180\n",
      "60645 179\n",
      "60638 177\n",
      "60660 167\n",
      "60659 140\n",
      "60657 132\n",
      "60613 125\n",
      "60654 124\n",
      "60630 123\n",
      "60614 118\n",
      "60605 113\n",
      "60611 106\n",
      "60633 67\n",
      "60707 64\n",
      "60601 43\n",
      "60661 31\n",
      "60604 30\n",
      "60656 23\n",
      "60655 22\n",
      "60646 18\n",
      "60603 17\n",
      "60602 17\n",
      "60606 14\n",
      "60631 12\n",
      "None 4\n",
      "Execution time:  1.4092817306518555 seconds\n"
     ]
    }
   ],
   "source": [
    "import time\n",
    "from xml.etree.ElementTree import iterparse\n",
    "from collections import Counter\n",
    "\n",
    "def parse_and_remove(filename, path):\n",
    "    path_parts = path.split('/')\n",
    "    doc = iterparse(filename, ('start', 'end'))\n",
    "    # Skip the root element\n",
    "    next(doc)\n",
    "    tag_stack = []\n",
    "    elem_stack = []\n",
    "    for event, elem in doc:\n",
    "        if event == 'start':\n",
    "            tag_stack.append(elem.tag)\n",
    "            elem_stack.append(elem)\n",
    "        elif event == 'end':\n",
    "            if tag_stack == path_parts:\n",
    "                yield elem\n",
    "                elem_stack[-2].remove(elem)\n",
    "            try:\n",
    "                tag_stack.pop()\n",
    "                elem_stack.pop()\n",
    "            except IndexError:\n",
    "                pass\n",
    "\n",
    "st = time.time()\n",
    "\n",
    "victim_cases_by_zip = Counter()\n",
    "\n",
    "doc = parse_and_remove('data/victims_of_homicides_and_non_fatal_shottings.xml', 'row/row')\n",
    "for victim_case in doc:\n",
    "    victim_cases_by_zip[victim_case.findtext('zip_code')] += 1\n",
    "for zipcode, num in victim_cases_by_zip.most_common():\n",
    "    print(zipcode, num)\n",
    "\n",
    "et = time.time()\n",
    "print('Execution time: ', et - st, 'seconds')"
   ]
  },
  {
   "cell_type": "code",
   "execution_count": 11,
   "id": "e3dc6867-1f83-4db9-a088-beaa6254c4a3",
   "metadata": {},
   "outputs": [
    {
     "name": "stdout",
     "output_type": "stream",
     "text": [
      "<Element 'stock' at 0x000001EEE3A978D0>\n",
      "b'<stock><name>GOOG</name><shares>100</shares><price>490.1</price></stock>'\n"
     ]
    }
   ],
   "source": [
    "from xml.etree.ElementTree import Element, tostring\n",
    "\n",
    "def dict_to_xml(tag, d):\n",
    "    elem = Element(tag)\n",
    "    for key, val in d.items():\n",
    "        child = Element(key)\n",
    "        child.text = str(val)\n",
    "        elem.append(child)\n",
    "    return elem\n",
    "\n",
    "s = {\n",
    "    'name': 'GOOG',\n",
    "    'shares': 100,\n",
    "    'price': 490.1\n",
    "}\n",
    "e = dict_to_xml('stock', s)\n",
    "print(e)\n",
    "\n",
    "print(tostring(e))"
   ]
  },
  {
   "cell_type": "code",
   "execution_count": 4,
   "id": "45a7f9d6-7e48-40c2-9d3f-6cb13c5d8118",
   "metadata": {},
   "outputs": [
    {
     "name": "stdout",
     "output_type": "stream",
     "text": [
      "('GOOGS', 100, 490.1)\n",
      "('AAPL', 50, 545.75)\n",
      "('FB', 150, 7.45)\n",
      "('HPQ', 75, 33.2)\n",
      "\n",
      "('GOOGS', 100, 490.1)\n",
      "('AAPL', 50, 545.75)\n"
     ]
    }
   ],
   "source": [
    "stocks = [\n",
    "    ('GOOGS', 100, 490.1),\n",
    "    ('AAPL', 50, 545.75),\n",
    "    ('FB', 150, 7.45),\n",
    "    ('HPQ', 75, 33.2)\n",
    "]\n",
    "\n",
    "import sqlite3\n",
    "db = sqlite3.connect('data/database.db')\n",
    "\n",
    "c = db.cursor()\n",
    "# c.execute('create table portfolio (symbol text, shares integer, price real)')\n",
    "# db.commit()\n",
    "\n",
    "# c.executemany('insert into portfolio values (?, ?, ?)', stocks)\n",
    "# db.commit()\n",
    "\n",
    "for row in db.execute('select * from portfolio'):\n",
    "    print(row)\n",
    "\n",
    "print()\n",
    "\n",
    "min_price = 100\n",
    "for row in db.execute('select * from portfolio where price >= ?', (min_price,)):\n",
    "    print(row)\n",
    "\n",
    "db.close()"
   ]
  },
  {
   "cell_type": "code",
   "execution_count": 18,
   "id": "da7c665f-4535-47dd-b781-6207d06ae642",
   "metadata": {},
   "outputs": [
    {
     "data": {
      "text/plain": [
       "297376"
      ]
     },
     "execution_count": 18,
     "metadata": {},
     "output_type": "execute_result"
    }
   ],
   "source": [
    "import pandas\n",
    "\n",
    "rats = pandas.read_csv('data/Rodent_Baiting_Historical_20241128.csv')\n",
    "# rats\n",
    "# rats['Current Activity'].unique()\n",
    "crew_dispatched = rats[rats['Current Activity'] == 'Dispatch Crew']\n",
    "len(crew_dispatched)\n",
    "# crew_dispatched['ZIP Code'].value_counts()[:10]"
   ]
  },
  {
   "cell_type": "code",
   "execution_count": null,
   "id": "ca44624a-de81-4d56-b868-6a3e4f3801d9",
   "metadata": {},
   "outputs": [],
   "source": []
  }
 ],
 "metadata": {
  "kernelspec": {
   "display_name": "Python 3 (ipykernel)",
   "language": "python",
   "name": "python3"
  },
  "language_info": {
   "codemirror_mode": {
    "name": "ipython",
    "version": 3
   },
   "file_extension": ".py",
   "mimetype": "text/x-python",
   "name": "python",
   "nbconvert_exporter": "python",
   "pygments_lexer": "ipython3",
   "version": "3.12.7"
  }
 },
 "nbformat": 4,
 "nbformat_minor": 5
}

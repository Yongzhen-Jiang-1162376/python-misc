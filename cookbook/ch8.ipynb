{
 "cells": [
  {
   "cell_type": "code",
   "execution_count": 4,
   "id": "699f67df-e3ff-4fc6-b7c5-68f8d10fb370",
   "metadata": {},
   "outputs": [
    {
     "name": "stdout",
     "output_type": "stream",
     "text": [
      "Pair(3, 4)\n",
      "(3, 4)\n",
      "\n",
      "\n",
      "Pair(3, 4)\n",
      "(3, 4)\n"
     ]
    }
   ],
   "source": [
    "class Pair:\n",
    "    def __init__(self, x, y):\n",
    "        self.x = x\n",
    "        self.y = y\n",
    "    def __repr__(self):\n",
    "        return f'Pair({self.x}, {self.y})'\n",
    "    def __str__(self):\n",
    "        return f'({self.x}, {self.y})'\n",
    "\n",
    "p = Pair(3, 4)\n",
    "print(repr(p))\n",
    "print(p)\n",
    "\n",
    "print()\n",
    "print()\n",
    "\n",
    "print(f'{p!r}')\n",
    "print(f'{p}')"
   ]
  },
  {
   "cell_type": "code",
   "execution_count": 8,
   "id": "cf028011-db3f-4975-b34b-731024a563f9",
   "metadata": {},
   "outputs": [
    {
     "name": "stdout",
     "output_type": "stream",
     "text": [
      "2012-12-21\n",
      "12/21/2012\n",
      "The date is 2012-12-21\n",
      "The date is 12/21/2012\n"
     ]
    }
   ],
   "source": [
    "_formats = {\n",
    "    'ymd': '{d.year}-{d.month}-{d.day}',\n",
    "    'mdy': '{d.month}/{d.day}/{d.year}',\n",
    "    'dmy': '{d.day}/{d.month}/{d.year}'\n",
    "}\n",
    "\n",
    "class Date:\n",
    "    def __init__(self, year, month, day):\n",
    "        self.year = year\n",
    "        self.month = month\n",
    "        self.day = day\n",
    "\n",
    "    def __format__(self, code):\n",
    "        if code == '':\n",
    "            code = 'ymd'\n",
    "        fmt = _formats[code]\n",
    "        return fmt.format(d=self)\n",
    "\n",
    "\n",
    "d = Date(2012, 12, 21)\n",
    "print(format(d))\n",
    "print(format(d, 'mdy'))\n",
    "print('The date is {:ymd}'.format(d))\n",
    "print('The date is {:mdy}'.format(d))"
   ]
  },
  {
   "cell_type": "code",
   "execution_count": null,
   "id": "d6f1d129-bd2f-45bc-8b94-7f204b0030ed",
   "metadata": {},
   "outputs": [],
   "source": [
    "class Date:\n",
    "    __slots__ = ['year', 'month', 'day']\n",
    "    def __init__(self, year, month, day):\n",
    "        self.year = year\n",
    "        self.month = month\n",
    "        self.day = day"
   ]
  },
  {
   "cell_type": "code",
   "execution_count": null,
   "id": "88903676-1bcd-428b-b5f5-794d9b4f9910",
   "metadata": {},
   "outputs": [],
   "source": [
    "class A:\n",
    "    def __init__(self):\n",
    "        self._internal = 0\n",
    "        self.public = 1\n",
    "\n",
    "    def public_method(self):\n",
    "        pass\n",
    "\n",
    "    def _internal_method(self):\n",
    "        pass\n",
    "\n",
    "\n",
    "class B:\n",
    "    def __init__(self):\n",
    "        self.__private = 0\n",
    "\n",
    "    def __private_method(self):\n",
    "        pass\n",
    "\n",
    "    def public_method(self):\n",
    "        self.__private_method()\n",
    "\n",
    "\n",
    "class C(B):\n",
    "    def __init__(self):\n",
    "        super().__init__()\n",
    "        self.__private = 1\n",
    "    def __private_method(self):\n",
    "        pass\n"
   ]
  },
  {
   "cell_type": "code",
   "execution_count": 13,
   "id": "35022eab-aff2-4736-8fa7-db55dffb27cf",
   "metadata": {},
   "outputs": [
    {
     "name": "stdout",
     "output_type": "stream",
     "text": [
      "Guido\n"
     ]
    },
    {
     "ename": "AttributeError",
     "evalue": "Can't delete attribute",
     "output_type": "error",
     "traceback": [
      "\u001b[1;31m---------------------------------------------------------------------------\u001b[0m",
      "\u001b[1;31mAttributeError\u001b[0m                            Traceback (most recent call last)",
      "Cell \u001b[1;32mIn[13], line 22\u001b[0m\n\u001b[0;32m     20\u001b[0m \u001b[38;5;28mprint\u001b[39m(a\u001b[38;5;241m.\u001b[39mfirst_name)\n\u001b[0;32m     21\u001b[0m \u001b[38;5;66;03m# a.first_name = 42\u001b[39;00m\n\u001b[1;32m---> 22\u001b[0m \u001b[38;5;28;01mdel\u001b[39;00m \u001b[43ma\u001b[49m\u001b[38;5;241;43m.\u001b[39;49m\u001b[43mfirst_name\u001b[49m\n",
      "Cell \u001b[1;32mIn[13], line 17\u001b[0m, in \u001b[0;36mPerson.first_name\u001b[1;34m(self)\u001b[0m\n\u001b[0;32m     15\u001b[0m \u001b[38;5;129m@first_name\u001b[39m\u001b[38;5;241m.\u001b[39mdeleter\n\u001b[0;32m     16\u001b[0m \u001b[38;5;28;01mdef\u001b[39;00m \u001b[38;5;21mfirst_name\u001b[39m(\u001b[38;5;28mself\u001b[39m):\n\u001b[1;32m---> 17\u001b[0m     \u001b[38;5;28;01mraise\u001b[39;00m \u001b[38;5;167;01mAttributeError\u001b[39;00m(\u001b[38;5;124m\"\u001b[39m\u001b[38;5;124mCan\u001b[39m\u001b[38;5;124m'\u001b[39m\u001b[38;5;124mt delete attribute\u001b[39m\u001b[38;5;124m\"\u001b[39m)\n",
      "\u001b[1;31mAttributeError\u001b[0m: Can't delete attribute"
     ]
    }
   ],
   "source": [
    "class Person:\n",
    "    def __init__(self, first_name):\n",
    "        self.first_name = first_name\n",
    "\n",
    "    @property\n",
    "    def first_name(self):\n",
    "        return self._first_name\n",
    "\n",
    "    @first_name.setter\n",
    "    def first_name(self, value):\n",
    "        if not isinstance(value, str):\n",
    "            raise TypeError('Expected a string')\n",
    "        self._first_name = value\n",
    "\n",
    "    @first_name.deleter\n",
    "    def first_name(self):\n",
    "        raise AttributeError(\"Can't delete attribute\")\n",
    "\n",
    "a = Person('Guido')\n",
    "print(a.first_name)\n",
    "# a.first_name = 42\n",
    "del a.first_name"
   ]
  },
  {
   "cell_type": "code",
   "execution_count": null,
   "id": "0bea1d6d-3406-46e5-b4c0-d26ca851c525",
   "metadata": {},
   "outputs": [],
   "source": [
    "class Person:\n",
    "    def __init__(self, first_name):\n",
    "        self.set_first_name(first_name)\n",
    "\n",
    "    def get_first_name(self):\n",
    "        return self._first_name\n",
    "\n",
    "    def set_first_name(self, value):\n",
    "        if not isinstance(value, str):\n",
    "            raise TypeError('Expected a string')\n",
    "        self._first_name = value\n",
    "\n",
    "    def del_first_name(self):\n",
    "        raise AttributeError(\"Can't delete attribute\")\n",
    "\n",
    "    name = property(get_first_name, set_first_name, del_first_name)\n"
   ]
  },
  {
   "cell_type": "code",
   "execution_count": 14,
   "id": "001c63ac-6c61-40d9-8271-648376abeccb",
   "metadata": {},
   "outputs": [
    {
     "name": "stdout",
     "output_type": "stream",
     "text": [
      "4.0\n",
      "50.26548245743669\n",
      "25.132741228718345\n"
     ]
    }
   ],
   "source": [
    "import math\n",
    "class Circle:\n",
    "    def __init__(self, radius):\n",
    "        self.radius = radius\n",
    "\n",
    "    @property\n",
    "    def area(self):\n",
    "        return math.pi * self.radius ** 2\n",
    "\n",
    "    @property\n",
    "    def perimeter(self):\n",
    "        return 2 * math.pi * self.radius\n",
    "\n",
    "c = Circle(4.0)\n",
    "print(c.radius)\n",
    "print(c.area)\n",
    "print(c.perimeter)\n"
   ]
  },
  {
   "cell_type": "code",
   "execution_count": null,
   "id": "356f6766-2e56-4ef4-b6b2-049148147624",
   "metadata": {},
   "outputs": [],
   "source": [
    "class A:\n",
    "    def spam(self):\n",
    "        print('A.spam')\n",
    "\n",
    "class B(A):\n",
    "    def spam(self):\n",
    "        print('B.spam')\n",
    "        super().spam()"
   ]
  },
  {
   "cell_type": "code",
   "execution_count": 18,
   "id": "9e7ccede-3514-483d-a6e8-b2650c98b427",
   "metadata": {},
   "outputs": [
    {
     "name": "stdout",
     "output_type": "stream",
     "text": [
      "A.spam\n",
      "B.spam\n",
      "(<class '__main__.C'>, <class '__main__.A'>, <class '__main__.B'>, <class 'object'>)\n"
     ]
    }
   ],
   "source": [
    "class A:\n",
    "    def spam(self):\n",
    "        print('A.spam')\n",
    "        super().spam()\n",
    "\n",
    "class B:\n",
    "    def spam(self):\n",
    "        print('B.spam')\n",
    "\n",
    "\n",
    "class C(A, B):\n",
    "    pass\n",
    "\n",
    "c = C()\n",
    "c.spam()\n",
    "\n",
    "print(C.__mro__)\n",
    "\n",
    "# a = A()\n",
    "# a.spam()"
   ]
  },
  {
   "cell_type": "code",
   "execution_count": 31,
   "id": "24d941b1-826a-4f95-a80c-21440a909ceb",
   "metadata": {},
   "outputs": [
    {
     "name": "stdout",
     "output_type": "stream",
     "text": [
      "Setting name to  Guido\n"
     ]
    },
    {
     "ename": "NameError",
     "evalue": "name 'name' is not defined",
     "output_type": "error",
     "traceback": [
      "\u001b[1;31m---------------------------------------------------------------------------\u001b[0m",
      "\u001b[1;31mNameError\u001b[0m                                 Traceback (most recent call last)",
      "Cell \u001b[1;32mIn[31], line 37\u001b[0m\n\u001b[0;32m     33\u001b[0m         \u001b[38;5;28mprint\u001b[39m(\u001b[38;5;124m'\u001b[39m\u001b[38;5;124mDeleting name\u001b[39m\u001b[38;5;124m'\u001b[39m)\n\u001b[0;32m     34\u001b[0m         \u001b[38;5;28msuper\u001b[39m(SubPerson, SubPerson)\u001b[38;5;241m.\u001b[39mname\u001b[38;5;241m.\u001b[39m\u001b[38;5;21m__delete__\u001b[39m(\u001b[38;5;28mself\u001b[39m)\n\u001b[1;32m---> 37\u001b[0m s \u001b[38;5;241m=\u001b[39m \u001b[43mSubPerson\u001b[49m\u001b[43m(\u001b[49m\u001b[38;5;124;43m'\u001b[39;49m\u001b[38;5;124;43mGuido\u001b[39;49m\u001b[38;5;124;43m'\u001b[39;49m\u001b[43m)\u001b[49m\n\u001b[0;32m     38\u001b[0m \u001b[38;5;28mprint\u001b[39m(s\u001b[38;5;241m.\u001b[39mname)\n\u001b[0;32m     39\u001b[0m s\u001b[38;5;241m.\u001b[39mname \u001b[38;5;241m=\u001b[39m \u001b[38;5;124m'\u001b[39m\u001b[38;5;124mLarry\u001b[39m\u001b[38;5;124m'\u001b[39m\n",
      "Cell \u001b[1;32mIn[31], line 3\u001b[0m, in \u001b[0;36mPerson.__init__\u001b[1;34m(self, name)\u001b[0m\n\u001b[0;32m      2\u001b[0m \u001b[38;5;28;01mdef\u001b[39;00m \u001b[38;5;21m__init__\u001b[39m(\u001b[38;5;28mself\u001b[39m, name):\n\u001b[1;32m----> 3\u001b[0m     \u001b[38;5;28;43mself\u001b[39;49m\u001b[38;5;241;43m.\u001b[39;49m\u001b[43mname\u001b[49m \u001b[38;5;241m=\u001b[39m name\n",
      "Cell \u001b[1;32mIn[31], line 29\u001b[0m, in \u001b[0;36mSubPerson.name\u001b[1;34m(self, value)\u001b[0m\n\u001b[0;32m     26\u001b[0m \u001b[38;5;129m@name\u001b[39m\u001b[38;5;241m.\u001b[39msetter\n\u001b[0;32m     27\u001b[0m \u001b[38;5;28;01mdef\u001b[39;00m \u001b[38;5;21mname\u001b[39m(\u001b[38;5;28mself\u001b[39m, value):\n\u001b[0;32m     28\u001b[0m     \u001b[38;5;28mprint\u001b[39m(\u001b[38;5;124m'\u001b[39m\u001b[38;5;124mSetting name to \u001b[39m\u001b[38;5;124m'\u001b[39m, value)\n\u001b[1;32m---> 29\u001b[0m     \u001b[38;5;28;43msuper\u001b[39;49m\u001b[43m(\u001b[49m\u001b[43mSubPerson\u001b[49m\u001b[43m,\u001b[49m\u001b[43m \u001b[49m\u001b[43mSubPerson\u001b[49m\u001b[43m)\u001b[49m\u001b[38;5;241;43m.\u001b[39;49m\u001b[43mname\u001b[49m\u001b[38;5;241;43m.\u001b[39;49m\u001b[38;5;21;43m__set__\u001b[39;49m\u001b[43m(\u001b[49m\u001b[38;5;28;43mself\u001b[39;49m\u001b[43m,\u001b[49m\u001b[43m \u001b[49m\u001b[43mvalue\u001b[49m\u001b[43m)\u001b[49m\n",
      "Cell \u001b[1;32mIn[31], line 13\u001b[0m, in \u001b[0;36mPerson.name\u001b[1;34m(self, value)\u001b[0m\n\u001b[0;32m     11\u001b[0m \u001b[38;5;28;01mif\u001b[39;00m \u001b[38;5;129;01mnot\u001b[39;00m \u001b[38;5;28misinstance\u001b[39m(value, \u001b[38;5;28mstr\u001b[39m):\n\u001b[0;32m     12\u001b[0m     \u001b[38;5;28;01mraise\u001b[39;00m \u001b[38;5;167;01mTypeError\u001b[39;00m(\u001b[38;5;124m'\u001b[39m\u001b[38;5;124mExpected a string\u001b[39m\u001b[38;5;124m'\u001b[39m)\n\u001b[1;32m---> 13\u001b[0m \u001b[38;5;28mself\u001b[39m\u001b[38;5;241m.\u001b[39m_name \u001b[38;5;241m=\u001b[39m \u001b[43mname\u001b[49m\n",
      "\u001b[1;31mNameError\u001b[0m: name 'name' is not defined"
     ]
    }
   ],
   "source": [
    "class Person:\n",
    "    def __init__(self, name):\n",
    "        self.name = name\n",
    "\n",
    "    @property\n",
    "    def name(self):\n",
    "        return self._name\n",
    "\n",
    "    @name.setter\n",
    "    def name(self, value):\n",
    "        if not isinstance(value, str):\n",
    "            raise TypeError('Expected a string')\n",
    "        self._name = name\n",
    "\n",
    "    @name.deleter\n",
    "    def name(self):\n",
    "        raise AttributeError(\"Can't delete attribute\")\n",
    "\n",
    "\n",
    "class SubPerson(Person):\n",
    "    @Person.name.getter\n",
    "    def name(self):\n",
    "        print('Getting name')\n",
    "        return super().name\n",
    "\n",
    "    @name.setter\n",
    "    def name(self, value):\n",
    "        print('Setting name to ', value)\n",
    "        super(SubPerson, SubPerson).name.__set__(self, value)\n",
    "\n",
    "    @name.deleter\n",
    "    def name(self):\n",
    "        print('Deleting name')\n",
    "        super(SubPerson, SubPerson).name.__delete__(self)\n",
    "\n",
    "\n",
    "s = SubPerson('Guido')\n",
    "print(s.name)\n",
    "s.name = 'Larry'\n",
    "print(s.name)"
   ]
  },
  {
   "cell_type": "code",
   "execution_count": 32,
   "id": "4e97c1b1-ea40-458d-9233-fde2fbaa1ca0",
   "metadata": {},
   "outputs": [
    {
     "name": "stdout",
     "output_type": "stream",
     "text": [
      "2\n"
     ]
    },
    {
     "ename": "TypeError",
     "evalue": "Expected an int",
     "output_type": "error",
     "traceback": [
      "\u001b[1;31m---------------------------------------------------------------------------\u001b[0m",
      "\u001b[1;31mTypeError\u001b[0m                                 Traceback (most recent call last)",
      "Cell \u001b[1;32mIn[32], line 31\u001b[0m\n\u001b[0;32m     29\u001b[0m \u001b[38;5;28mprint\u001b[39m(p\u001b[38;5;241m.\u001b[39mx)\n\u001b[0;32m     30\u001b[0m p\u001b[38;5;241m.\u001b[39my \u001b[38;5;241m=\u001b[39m \u001b[38;5;241m5\u001b[39m\n\u001b[1;32m---> 31\u001b[0m \u001b[43mp\u001b[49m\u001b[38;5;241;43m.\u001b[39;49m\u001b[43mx\u001b[49m \u001b[38;5;241m=\u001b[39m \u001b[38;5;241m2.3\u001b[39m\n",
      "Cell \u001b[1;32mIn[32], line 13\u001b[0m, in \u001b[0;36mInteger.__set__\u001b[1;34m(self, instance, value)\u001b[0m\n\u001b[0;32m     11\u001b[0m \u001b[38;5;28;01mdef\u001b[39;00m \u001b[38;5;21m__set__\u001b[39m(\u001b[38;5;28mself\u001b[39m, instance, value):\n\u001b[0;32m     12\u001b[0m     \u001b[38;5;28;01mif\u001b[39;00m \u001b[38;5;129;01mnot\u001b[39;00m \u001b[38;5;28misinstance\u001b[39m(value, \u001b[38;5;28mint\u001b[39m):\n\u001b[1;32m---> 13\u001b[0m         \u001b[38;5;28;01mraise\u001b[39;00m \u001b[38;5;167;01mTypeError\u001b[39;00m(\u001b[38;5;124m'\u001b[39m\u001b[38;5;124mExpected an int\u001b[39m\u001b[38;5;124m'\u001b[39m)\n\u001b[0;32m     14\u001b[0m     instance\u001b[38;5;241m.\u001b[39m\u001b[38;5;18m__dict__\u001b[39m[\u001b[38;5;28mself\u001b[39m\u001b[38;5;241m.\u001b[39mname] \u001b[38;5;241m=\u001b[39m value\n",
      "\u001b[1;31mTypeError\u001b[0m: Expected an int"
     ]
    }
   ],
   "source": [
    "class Integer:\n",
    "    def __init__(self, name):\n",
    "        self.name = name\n",
    "\n",
    "    def __get__(self, instance, cls):\n",
    "        if instance is None:\n",
    "            return self\n",
    "        else:\n",
    "            return instance.__dict__[self.name]\n",
    "\n",
    "    def __set__(self, instance, value):\n",
    "        if not isinstance(value, int):\n",
    "            raise TypeError('Expected an int')\n",
    "        instance.__dict__[self.name] = value\n",
    "\n",
    "    def __delete__(self, instance):\n",
    "        del instance.__dict__[self.name]\n",
    "\n",
    "\n",
    "class Point:\n",
    "    x = Integer('x')\n",
    "    y = Integer('y')\n",
    "    \n",
    "    def __init__(self, x, y):\n",
    "        self.x = x\n",
    "        self.y = y\n",
    "\n",
    "p = Point(2, 3)\n",
    "print(p.x)\n",
    "p.y = 5\n",
    "p.x = 2.3"
   ]
  },
  {
   "cell_type": "code",
   "execution_count": 34,
   "id": "d0b83199-e6bd-459c-be9c-80d21bbe2fd2",
   "metadata": {},
   "outputs": [],
   "source": [
    "from abc import ABCMeta, abstractmethod\n",
    "\n",
    "class IStream(metaclass=ABCMeta):\n",
    "    @abstractmethod\n",
    "    def read(self, maxbytes=-1):\n",
    "        pass\n",
    "\n",
    "    @abstractmethod\n",
    "    def write(self, data):\n",
    "        pass\n",
    "\n",
    "# a = IStream()\n",
    "\n",
    "class SocketStream(IStream):\n",
    "    def read(self, maxbytes=-1):\n",
    "        pass\n",
    "\n",
    "    def write(self, data):\n",
    "        pass\n",
    "\n",
    "s = SocketStream()"
   ]
  },
  {
   "cell_type": "code",
   "execution_count": 36,
   "id": "f5b6d077-c845-47cc-8d9e-ea799726e604",
   "metadata": {},
   "outputs": [
    {
     "ename": "TypeError",
     "evalue": "Can't instantiate abstract class A without an implementation for abstract method '__iter__'",
     "output_type": "error",
     "traceback": [
      "\u001b[1;31m---------------------------------------------------------------------------\u001b[0m",
      "\u001b[1;31mTypeError\u001b[0m                                 Traceback (most recent call last)",
      "Cell \u001b[1;32mIn[36], line 6\u001b[0m\n\u001b[0;32m      3\u001b[0m \u001b[38;5;28;01mclass\u001b[39;00m \u001b[38;5;21;01mA\u001b[39;00m(collections\u001b[38;5;241m.\u001b[39mabc\u001b[38;5;241m.\u001b[39mIterable):\n\u001b[0;32m      4\u001b[0m     \u001b[38;5;28;01mpass\u001b[39;00m\n\u001b[1;32m----> 6\u001b[0m a \u001b[38;5;241m=\u001b[39m \u001b[43mA\u001b[49m\u001b[43m(\u001b[49m\u001b[43m)\u001b[49m\n",
      "\u001b[1;31mTypeError\u001b[0m: Can't instantiate abstract class A without an implementation for abstract method '__iter__'"
     ]
    }
   ],
   "source": [
    "import collections\n",
    "\n",
    "class A(collections.abc.Iterable):\n",
    "    pass\n",
    "\n",
    "a = A()\n"
   ]
  },
  {
   "cell_type": "code",
   "execution_count": 39,
   "id": "3918cb4f-fa5e-4e50-bb3d-8840f3bce180",
   "metadata": {},
   "outputs": [
    {
     "name": "stdout",
     "output_type": "stream",
     "text": [
      "[1, 3, 5]\n",
      "1\n",
      "5\n",
      "[1, 2, 3, 5]\n",
      "[-10, 1, 2, 3, 5]\n",
      "[1, 2, 3]\n",
      "True\n",
      "5\n"
     ]
    }
   ],
   "source": [
    "import collections\n",
    "import bisect\n",
    "\n",
    "\n",
    "class SortedItems(collections.abc.Sequence):\n",
    "    def __init__(self, initial=None):\n",
    "        self._items = sorted(initial) if initial is not None else []\n",
    "\n",
    "    def __getitem__(self, index):\n",
    "        return self._items[index]\n",
    "\n",
    "    def __len__(self):\n",
    "        return len(self._items)\n",
    "\n",
    "    def add(self, item):\n",
    "        bisect.insort(self._items, item)\n",
    "\n",
    "\n",
    "items = SortedItems([5, 1, 3])\n",
    "print(list(items))\n",
    "print(items[0])\n",
    "print(items[-1])\n",
    "items.add(2)\n",
    "print(list(items))\n",
    "items.add(-10)\n",
    "print(list(items))\n",
    "print(items[1:4])\n",
    "print(3 in items)\n",
    "print(len(items))"
   ]
  },
  {
   "cell_type": "code",
   "execution_count": 47,
   "id": "05f764df-7cfd-4456-a840-1bdc86ecc2b4",
   "metadata": {},
   "outputs": [
    {
     "name": "stdout",
     "output_type": "stream",
     "text": [
      "getattr: x\n",
      "2\n",
      "getattr: bar\n",
      "Spam.bar: 2 3\n",
      "setattr: x 37\n",
      "<__main__.Proxy object at 0x00000206D6378860>\n",
      "['__class__',\n",
      " '__delattr__',\n",
      " '__dict__',\n",
      " '__dir__',\n",
      " '__doc__',\n",
      " '__eq__',\n",
      " '__format__',\n",
      " '__ge__',\n",
      " '__getattr__',\n",
      " '__getattribute__',\n",
      " '__getstate__',\n",
      " '__gt__',\n",
      " '__hash__',\n",
      " '__init__',\n",
      " '__init_subclass__',\n",
      " '__le__',\n",
      " '__lt__',\n",
      " '__module__',\n",
      " '__ne__',\n",
      " '__new__',\n",
      " '__reduce__',\n",
      " '__reduce_ex__',\n",
      " '__repr__',\n",
      " '__setattr__',\n",
      " '__sizeof__',\n",
      " '__str__',\n",
      " '__subclasshook__',\n",
      " '__weakref__',\n",
      " '_date',\n",
      " '_obj']\n",
      "{'_date': datetime.datetime(2024, 12, 22, 19, 5, 15, 40862),\n",
      " '_obj': <__main__.Spam object at 0x00000206D637A600>}\n",
      "getattr: x\n",
      "37\n"
     ]
    }
   ],
   "source": [
    "from datetime import datetime\n",
    "from pprint import pprint\n",
    "\n",
    "class Proxy:\n",
    "    def __init__(self, obj):\n",
    "        self._obj = obj\n",
    "\n",
    "    def __getattr__(self, name):\n",
    "        print('getattr:', name)\n",
    "        return getattr(self._obj, name)\n",
    "\n",
    "    def __setattr__(self, name, value):\n",
    "        if name.startswith('_'):\n",
    "            super().__setattr__(name, value)\n",
    "        else:\n",
    "            print('setattr:', name, value)\n",
    "            setattr(self._obj, name, value)\n",
    "\n",
    "    def __delattr__(self, name):\n",
    "        if name.startswith('_'):\n",
    "            super().__delattr__(name)\n",
    "        else:\n",
    "            print('delattr:', name)\n",
    "            delattr(self._obj, name)\n",
    "\n",
    "\n",
    "class Spam:\n",
    "    def __init__(self, x):\n",
    "        self.x = x\n",
    "\n",
    "    def bar(self, y):\n",
    "        print('Spam.bar:', self.x, y)\n",
    "\n",
    "\n",
    "s = Spam(2)\n",
    "p = Proxy(s)\n",
    "print(p.x)\n",
    "p.bar(3)\n",
    "p.x = 37\n",
    "p._date = datetime.today()\n",
    "print(p)\n",
    "pprint(dir(p))\n",
    "pprint(vars(p))\n",
    "pprint(p.x)"
   ]
  },
  {
   "cell_type": "code",
   "execution_count": 50,
   "id": "7cb71897-630e-4a2a-b4d0-ea382c64f5f8",
   "metadata": {},
   "outputs": [
    {
     "name": "stdout",
     "output_type": "stream",
     "text": [
      "time.struct_time(tm_year=2024, tm_mon=12, tm_mday=22, tm_hour=19, tm_min=16, tm_sec=29, tm_wday=6, tm_yday=357, tm_isdst=1)\n",
      "<__main__.Date object at 0x00000206D625D730>\n",
      "<__main__.Date object at 0x00000206D625DA60>\n"
     ]
    }
   ],
   "source": [
    "import time\n",
    "\n",
    "print(time.localtime())\n",
    "\n",
    "class Date:\n",
    "    def __init__(self, year, month, day):\n",
    "        self.year = year\n",
    "        self.month = month\n",
    "        self.day = day\n",
    "\n",
    "    @classmethod\n",
    "    def today(cls):\n",
    "        t = time.localtime()\n",
    "        return cls(t.tm_year, t.tm_mon, t.tm_mday)\n",
    "\n",
    "a = Date(2012, 12, 21)\n",
    "b = Date.today()\n",
    "\n",
    "pprint(a)\n",
    "pprint(b)"
   ]
  },
  {
   "cell_type": "code",
   "execution_count": 53,
   "id": "97c455ca-c491-4bd5-8465-d6be5263054c",
   "metadata": {},
   "outputs": [
    {
     "name": "stdout",
     "output_type": "stream",
     "text": [
      "<__main__.Date object at 0x00000206D625F2F0>\n",
      "2012 8 29\n"
     ]
    }
   ],
   "source": [
    "class Date:\n",
    "    def __init__(self, year, month, day):\n",
    "        self.year = year\n",
    "        self.month = month\n",
    "        self.day = day\n",
    "\n",
    "d = Date.__new__(Date)\n",
    "print(d)\n",
    "# print(d.year)\n",
    "\n",
    "data = {'year': 2012, 'month': 8, 'day': 29}\n",
    "for key, value in data.items():\n",
    "    setattr(d, key, value)\n",
    "\n",
    "print(d.year, d.month, d.day)"
   ]
  },
  {
   "cell_type": "code",
   "execution_count": null,
   "id": "8dad182a-156c-484b-ae06-6484ea5a50af",
   "metadata": {},
   "outputs": [],
   "source": []
  }
 ],
 "metadata": {
  "kernelspec": {
   "display_name": "Python 3 (ipykernel)",
   "language": "python",
   "name": "python3"
  },
  "language_info": {
   "codemirror_mode": {
    "name": "ipython",
    "version": 3
   },
   "file_extension": ".py",
   "mimetype": "text/x-python",
   "name": "python",
   "nbconvert_exporter": "python",
   "pygments_lexer": "ipython3",
   "version": "3.12.7"
  }
 },
 "nbformat": 4,
 "nbformat_minor": 5
}

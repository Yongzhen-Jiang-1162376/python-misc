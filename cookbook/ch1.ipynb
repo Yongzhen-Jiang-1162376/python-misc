{
 "cells": [
  {
   "cell_type": "code",
   "execution_count": null,
   "id": "aeefe516-3292-4830-a165-797a4c443111",
   "metadata": {
    "editable": true,
    "slideshow": {
     "slide_type": ""
    },
    "tags": []
   },
   "outputs": [],
   "source": [
    "nums = [1, 2, 3, 4, 5]\n",
    "s = sum(x * x for x in nums)\n",
    "print(s)"
   ]
  },
  {
   "cell_type": "code",
   "execution_count": null,
   "id": "d81e8572-fa5b-43dc-8db8-008395bd1810",
   "metadata": {},
   "outputs": [],
   "source": [
    "import os\n",
    "files = os.listdir('dirname')\n",
    "if any(name.endswith('.py') for name in files):\n",
    "    print('There be python!')\n",
    "else:\n",
    "    print('Sorry, no python.')"
   ]
  },
  {
   "cell_type": "code",
   "execution_count": 6,
   "id": "83316a58-a908-46fb-b9b0-8e313fd7a80d",
   "metadata": {},
   "outputs": [
    {
     "name": "stdout",
     "output_type": "stream",
     "text": [
      "ACME,50,123.45\n"
     ]
    }
   ],
   "source": [
    "s = ('ACME', 50, 123.45)\n",
    "print(','.join(str(x) for x in s))"
   ]
  },
  {
   "cell_type": "code",
   "execution_count": 18,
   "id": "02546eb3-8f60-4366-b121-a5706e4942f4",
   "metadata": {},
   "outputs": [
    {
     "name": "stdout",
     "output_type": "stream",
     "text": [
      "20\n",
      "{'name': 'AOL', 'shares': 20}\n",
      "{'name': 'AOL', 'shares': 20}\n"
     ]
    }
   ],
   "source": [
    "portfolio = [\n",
    "    {'name': 'GOOG', 'shares': 50},\n",
    "    {'name': 'YHOO', 'shares': 75},\n",
    "    {'name': 'AOL', 'shares': 20},\n",
    "    {'name': 'SCOX', 'shares': 65}\n",
    "]\n",
    "min_shares = min(s['shares'] for s in portfolio)\n",
    "print(min_shares)\n",
    "\n",
    "min_shares2 = min(portfolio, key=lambda s: s['shares'])\n",
    "print(min_shares2)\n",
    "\n",
    "from operator import itemgetter\n",
    "min_shares3 = min(portfolio, key=itemgetter('shares'))\n",
    "print(min_shares3)"
   ]
  },
  {
   "cell_type": "code",
   "execution_count": 19,
   "id": "0b733a1b-2b1a-43c8-918f-fdacfa95d993",
   "metadata": {},
   "outputs": [
    {
     "name": "stdout",
     "output_type": "stream",
     "text": [
      "ChainMap({'x': 1, 'z': 3}, {'y': 2, 'z': 4})\n",
      "1\n",
      "2\n",
      "3\n",
      "3\n",
      "['y', 'z', 'x']\n",
      "[2, 3, 1]\n"
     ]
    }
   ],
   "source": [
    "a = {'x': 1, 'z': 3}\n",
    "b = {'y': 2, 'z': 4}\n",
    "\n",
    "from collections import ChainMap\n",
    "c = ChainMap(a, b)\n",
    "print(c)\n",
    "print(c['x'])\n",
    "print(c['y'])\n",
    "print(c['z'])\n",
    "print(len(c))\n",
    "print(list(c.keys()))\n",
    "print(list(c.values()))"
   ]
  },
  {
   "cell_type": "code",
   "execution_count": 20,
   "id": "3d006a79-97bc-48e5-bbd3-e653099f91db",
   "metadata": {},
   "outputs": [
    {
     "name": "stdout",
     "output_type": "stream",
     "text": [
      "ChainMap({'x': 1, 'z': 3}, {'y': 2, 'z': 4})\n",
      "1\n",
      "42\n",
      "3\n"
     ]
    }
   ],
   "source": [
    "a = {'x': 1, 'z': 3}\n",
    "b = {'y': 2, 'z': 4}\n",
    "merged = ChainMap(a, b)\n",
    "print(merged)\n",
    "print(merged['x'])\n",
    "a['x'] = 42\n",
    "print(merged['x'])\n",
    "b['z'] = 6\n",
    "print(merged['z'])"
   ]
  },
  {
   "cell_type": "code",
   "execution_count": null,
   "id": "a7297960-016a-4fd3-aaa3-f6c5dba92cb9",
   "metadata": {
    "editable": true,
    "slideshow": {
     "slide_type": ""
    },
    "tags": []
   },
   "outputs": [],
   "source": []
  }
 ],
 "metadata": {
  "kernelspec": {
   "display_name": "Python 3 (ipykernel)",
   "language": "python",
   "name": "python3"
  },
  "language_info": {
   "codemirror_mode": {
    "name": "ipython",
    "version": 3
   },
   "file_extension": ".py",
   "mimetype": "text/x-python",
   "name": "python",
   "nbconvert_exporter": "python",
   "pygments_lexer": "ipython3",
   "version": "3.12.7"
  }
 },
 "nbformat": 4,
 "nbformat_minor": 5
}

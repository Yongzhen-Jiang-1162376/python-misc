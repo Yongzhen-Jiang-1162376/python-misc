{
 "cells": [
  {
   "cell_type": "code",
   "execution_count": 4,
   "id": "a460b0c9-b916-45a0-a8a7-e10bbc21eead",
   "metadata": {},
   "outputs": [
    {
     "name": "stdout",
     "output_type": "stream",
     "text": [
      "['jifeaife', ' fefe 24324', '    3434jiee']\n"
     ]
    }
   ],
   "source": [
    "s = 'jifeaife, fefe 24324,    3434jiee'\n",
    "print(s.split(','))"
   ]
  },
  {
   "cell_type": "code",
   "execution_count": 13,
   "id": "a4b964f8-dbac-455b-a356-6392f5c85bb0",
   "metadata": {},
   "outputs": [
    {
     "name": "stdout",
     "output_type": "stream",
     "text": [
      "asdf fjdk; afed, fjek,asdf,     foo\n",
      "['asdf', 'fjdk', 'afed', 'fjek', 'asdf', 'foo']\n",
      "['asdf', ' ', 'fjdk', ';', 'afed', ',', 'fjek', ',', 'asdf', ',', 'foo']\n",
      "['asdf', 'fjdk', 'afed', 'fjek', 'asdf', 'foo']\n",
      "[' ', ';', ',', ',', ',', '']\n"
     ]
    },
    {
     "data": {
      "text/plain": [
       "['asdf', 'fjdk', 'afed', 'fjek', 'asdf', 'foo']"
      ]
     },
     "execution_count": 13,
     "metadata": {},
     "output_type": "execute_result"
    }
   ],
   "source": [
    "line = 'asdf fjdk; afed, fjek,asdf,     foo'\n",
    "print(line)\n",
    "import re\n",
    "r1 = re.split(r'[;,\\s]\\s*', line)\n",
    "r2 = re.split(r'(;|,|\\s)\\s*', line)\n",
    "print(r1)\n",
    "print(r2)\n",
    "\n",
    "values = r2[::2]\n",
    "print(values)\n",
    "delimiters = r2[1::2] + ['']\n",
    "print(delimiters)\n",
    "\n",
    "''.join(v+d for v, d in zip(values, delimiters))\n",
    "\n",
    "re.split(r'(?:,|;|\\s)\\s*', line)"
   ]
  },
  {
   "cell_type": "code",
   "execution_count": 3,
   "id": "714c5623-9598-4447-8af7-86528217f3c9",
   "metadata": {
    "scrolled": true
   },
   "outputs": [
    {
     "name": "stdout",
     "output_type": "stream",
     "text": [
      "True\n",
      "False\n",
      "True\n"
     ]
    }
   ],
   "source": [
    "filename = 'spam.txt'\n",
    "print(filename.endswith('.txt'))\n",
    "print(filename.startswith('file:'))\n",
    "url = 'http://www.python.org'\n",
    "print(url.startswith('http:'))\n"
   ]
  },
  {
   "cell_type": "code",
   "execution_count": 9,
   "id": "ab6eb24c-0776-423b-8056-f8d61bac60d2",
   "metadata": {},
   "outputs": [
    {
     "name": "stdout",
     "output_type": "stream",
     "text": [
      "['.ipynb_checkpoints', 'ch1', 'ch1.ipynb', 'ch2.ipynb']\n",
      "['.ipynb_checkpoints', 'ch1.ipynb', 'ch2.ipynb']\n"
     ]
    },
    {
     "data": {
      "text/plain": [
       "True"
      ]
     },
     "execution_count": 9,
     "metadata": {},
     "output_type": "execute_result"
    }
   ],
   "source": [
    "import os\n",
    "filenames = os.listdir('.')\n",
    "print(filenames)\n",
    "l = [name for name in filenames if name.endswith(('.ipynb', 'points'))]\n",
    "print(l)\n",
    "any(name.endswith('.ipynb') for name in filenames)"
   ]
  },
  {
   "cell_type": "code",
   "execution_count": null,
   "id": "9a53ae1e-4ed5-4946-a3b8-2c2145ff62df",
   "metadata": {
    "scrolled": true
   },
   "outputs": [],
   "source": [
    "from urllib.request import urlopen\n",
    "\n",
    "def read_data(name):\n",
    "    if name.startswith(('http:', 'https:', 'ftp:')):\n",
    "        return urlopen(name).read()\n",
    "    else:\n",
    "        with open(name) as f:\n",
    "            return f.read()\n",
    "\n",
    "choices = ['http:', 'ftp:']\n",
    "url = 'http://www.python.org'\n",
    "url.startswith(tuple(choices))\n",
    "\n",
    "read_data(url)"
   ]
  },
  {
   "cell_type": "code",
   "execution_count": 14,
   "id": "91c9d69d-8425-43ad-97f1-70803f32922b",
   "metadata": {},
   "outputs": [
    {
     "data": {
      "text/plain": [
       "(1, 2, 3)"
      ]
     },
     "execution_count": 14,
     "metadata": {},
     "output_type": "execute_result"
    }
   ],
   "source": [
    "l = [1, 2, 3]\n",
    "tuple(l)"
   ]
  },
  {
   "cell_type": "code",
   "execution_count": 15,
   "id": "abf1a00e-ab82-4e7d-a8b8-b87ecf7d079b",
   "metadata": {},
   "outputs": [
    {
     "data": {
      "text/plain": [
       "[1, 2, 3]"
      ]
     },
     "execution_count": 15,
     "metadata": {},
     "output_type": "execute_result"
    }
   ],
   "source": [
    "t = (1, 2, 3)\n",
    "list(t)"
   ]
  },
  {
   "cell_type": "code",
   "execution_count": 22,
   "id": "d4b0e2a9-ff6b-4412-906a-d1093035e8b6",
   "metadata": {},
   "outputs": [
    {
     "data": {
      "text/plain": [
       "True"
      ]
     },
     "execution_count": 22,
     "metadata": {},
     "output_type": "execute_result"
    }
   ],
   "source": [
    "filename = 'spam.txt'\n",
    "filename[-4:] == '.txt'"
   ]
  },
  {
   "cell_type": "code",
   "execution_count": 23,
   "id": "1b621c07-10d3-40ac-b500-0baad08ef555",
   "metadata": {},
   "outputs": [
    {
     "data": {
      "text/plain": [
       "True"
      ]
     },
     "execution_count": 23,
     "metadata": {},
     "output_type": "execute_result"
    }
   ],
   "source": [
    "url = 'http://www.python.org'\n",
    "url[:5] == 'http:' or url[:6] == 'https:' or url[:4] == 'ftp:'"
   ]
  },
  {
   "cell_type": "code",
   "execution_count": 24,
   "id": "f147f754-e93f-4b34-b8fe-8b9d84158ebf",
   "metadata": {},
   "outputs": [
    {
     "data": {
      "text/plain": [
       "<re.Match object; span=(0, 5), match='http:'>"
      ]
     },
     "execution_count": 24,
     "metadata": {},
     "output_type": "execute_result"
    }
   ],
   "source": [
    "import re\n",
    "url = 'http://www.python.org'\n",
    "re.match('http:|https:|ftp:', url)"
   ]
  },
  {
   "cell_type": "code",
   "execution_count": 29,
   "id": "dc6498f7-b595-4ecc-8c81-d5faa34b0a91",
   "metadata": {},
   "outputs": [
    {
     "name": "stdout",
     "output_type": "stream",
     "text": [
      "True\n",
      "True\n",
      "True\n",
      "False\n"
     ]
    }
   ],
   "source": [
    "from fnmatch import fnmatch, fnmatchcase\n",
    "print(fnmatch('foo.txt', '*.txt'))\n",
    "print(fnmatch('foo.txt', '?oo.txt'))\n",
    "print(fnmatch('Dat45.csv', 'Dat[0-9]*'))\n",
    "\n",
    "names = ['Dat1.csv', 'Dat2.csv', 'config.ini', 'foo.py']\n",
    "[name for name in names if fnmatch(name, 'Dat*.csv')]\n",
    "\n",
    "print(fnmatchcase('foo.txt', '*.TXT'))"
   ]
  },
  {
   "cell_type": "code",
   "execution_count": 34,
   "id": "770b8994-0caf-4411-a993-1a8bc6e98b8d",
   "metadata": {},
   "outputs": [
    {
     "name": "stdout",
     "output_type": "stream",
     "text": [
      "['5412 N CLARK ST', '1060 W ADDISON ST', '2122 N CLARK ST']\n",
      "['5412 N CLARK ST']\n"
     ]
    }
   ],
   "source": [
    "addresses = [\n",
    "    '5412 N CLARK ST',\n",
    "    '1060 W ADDISON ST',\n",
    "    '1039 W GRANVILLE AVE',\n",
    "    '2122 N CLARK ST',\n",
    "    '4802 N BROADWAY',\n",
    "]\n",
    "\n",
    "from fnmatch import fnmatchcase\n",
    "print(\n",
    "    [addr for addr in addresses if fnmatchcase(addr, '*ST')]\n",
    ")\n",
    "\n",
    "print(\n",
    "    [addr for addr in addresses if fnmatchcase(addr, '54[0-9][0-9] *CLARK*')]\n",
    ")"
   ]
  },
  {
   "cell_type": "code",
   "execution_count": 37,
   "id": "b5b3fa0a-ffe0-4f85-89f9-0af4efbaa83c",
   "metadata": {},
   "outputs": [
    {
     "name": "stdout",
     "output_type": "stream",
     "text": [
      "False\n",
      "False\n",
      "False\n",
      "10\n"
     ]
    }
   ],
   "source": [
    "text = 'year, but no, but year, but no, but year'\n",
    "print(text == 'yeah')\n",
    "print(text.startswith('yeah'))\n",
    "print(text.endswith('no'))\n",
    "print(text.find('no'))"
   ]
  },
  {
   "cell_type": "code",
   "execution_count": 39,
   "id": "a965d70d-2030-4db7-8f8f-ce39a302a4ba",
   "metadata": {},
   "outputs": [
    {
     "data": {
      "text/plain": [
       "['11/27/2012', '3/13/2013']"
      ]
     },
     "execution_count": 39,
     "metadata": {},
     "output_type": "execute_result"
    }
   ],
   "source": [
    "import re\n",
    "datepat = re.compile(r'\\d+/\\d+/\\d+')\n",
    "# if datepat.match(text1):\n",
    "#     print('yes')\n",
    "# else:\n",
    "#     print('no')\n",
    "\n",
    "text = 'Today is 11/27/2012. PyCon starts 3/13/2013.'\n",
    "datepat.findall(text)"
   ]
  },
  {
   "cell_type": "code",
   "execution_count": 49,
   "id": "96877704-b6d0-4e09-bbb2-5014b75e5421",
   "metadata": {},
   "outputs": [
    {
     "name": "stdout",
     "output_type": "stream",
     "text": [
      "<re.Match object; span=(0, 10), match='11/27/2012'>\n",
      "11/27/2012 11 27 2012\n",
      "('11', '27', '2012')\n",
      "11 27 2012\n",
      "[('11', '27', '2012'), ('3', '13', '2013')]\n",
      "2012-11-27\n",
      "2013-3-13\n",
      "['11/27/2012', '3/13/2013']\n",
      "('11', '27', '2012')\n",
      "('3', '13', '2013')\n"
     ]
    }
   ],
   "source": [
    "import re\n",
    "datepat = re.compile(r'(\\d+)/(\\d+)/(\\d+)')\n",
    "\n",
    "m = datepat.match('11/27/2012')\n",
    "print(m)\n",
    "\n",
    "print(m.group(0), m.group(1), m.group(2), m.group(3))\n",
    "print(m.groups())\n",
    "\n",
    "month, day, year = m.groups()\n",
    "print(month, day, year)\n",
    "\n",
    "text = 'Today is 11/27/2012. PyCon starts 3/13/2013.'\n",
    "print(datepat.findall(text))\n",
    "\n",
    "for month, day, year in datepat.findall(text):\n",
    "    print('{}-{}-{}'.format(year, month, day))\n",
    "\n",
    "\n",
    "datepat2 = re.compile(r'\\d+/\\d+/\\d+')\n",
    "print(datepat2.findall(text))\n",
    "\n",
    "for m in datepat.finditer(text):\n",
    "    print(m.groups())"
   ]
  },
  {
   "cell_type": "code",
   "execution_count": 55,
   "id": "6909d72a-4200-4a50-8d8e-c91f520a7fbe",
   "metadata": {},
   "outputs": [
    {
     "name": "stdout",
     "output_type": "stream",
     "text": [
      "<re.Match object; span=(0, 10), match='11/27/2012'>\n",
      "('11', '27', '2012')\n",
      "11/27/2012\n",
      "11/27/2012\n",
      "11\n",
      "27\n",
      "2012\n",
      "None\n"
     ]
    }
   ],
   "source": [
    "import re\n",
    "datepat = re.compile(r'(\\d+)/(\\d+)/(\\d+)')\n",
    "\n",
    "m = datepat.match('11/27/2012abcdef')\n",
    "print(m)\n",
    "print(m.groups())\n",
    "print(m.group())\n",
    "print(m.group(0))\n",
    "print(m.group(1))\n",
    "print(m.group(2))\n",
    "print(m.group(3))\n",
    "\n",
    "datepat2 = re.compile(r'(\\d+)/(\\d+)/(\\d+)$')\n",
    "m = datepat2.match('11/27/2012abcdef')\n",
    "print(m)"
   ]
  },
  {
   "cell_type": "code",
   "execution_count": 56,
   "id": "3039a34b-5406-4ddd-9929-f5ca1016d11d",
   "metadata": {},
   "outputs": [
    {
     "data": {
      "text/plain": [
       "[('11', '27', '2012'), ('3', '13', '2013')]"
      ]
     },
     "execution_count": 56,
     "metadata": {},
     "output_type": "execute_result"
    }
   ],
   "source": [
    "import re\n",
    "text = 'Today is 11/27/2012. PyCon starts 3/13/2013.'\n",
    "re.findall(r'(\\d+)/(\\d+)/(\\d+)', text)"
   ]
  },
  {
   "cell_type": "code",
   "execution_count": 57,
   "id": "ae55acff-81b6-4155-9c76-1a333d53b16c",
   "metadata": {},
   "outputs": [
    {
     "data": {
      "text/plain": [
       "'yep, but no, but yep, but no, but yep'"
      ]
     },
     "execution_count": 57,
     "metadata": {},
     "output_type": "execute_result"
    }
   ],
   "source": [
    "text = 'yeah, but no, but yeah, but no, but yeah'\n",
    "text.replace('yeah', 'yep')"
   ]
  },
  {
   "cell_type": "code",
   "execution_count": 58,
   "id": "208ec2fe-6042-42c0-b18d-92ec8d25b24f",
   "metadata": {},
   "outputs": [
    {
     "data": {
      "text/plain": [
       "'Today is 2012-11-27. PyCon starts 2013-3-13.'"
      ]
     },
     "execution_count": 58,
     "metadata": {},
     "output_type": "execute_result"
    }
   ],
   "source": [
    "text = 'Today is 11/27/2012. PyCon starts 3/13/2013.'\n",
    "import re\n",
    "re.sub(r'(\\d+)/(\\d+)/(\\d+)', r'\\3-\\1-\\2', text)"
   ]
  },
  {
   "cell_type": "code",
   "execution_count": 59,
   "id": "82cee104-6bec-49fc-8791-598430969387",
   "metadata": {},
   "outputs": [
    {
     "data": {
      "text/plain": [
       "'Today is 2012-11-27. PyCon starts 2013-3-13.'"
      ]
     },
     "execution_count": 59,
     "metadata": {},
     "output_type": "execute_result"
    }
   ],
   "source": [
    "import re\n",
    "text = 'Today is 11/27/2012. PyCon starts 3/13/2013.'\n",
    "datepat = re.compile(r'(\\d+)/(\\d+)/(\\d+)')\n",
    "datepat.sub(r'\\3-\\1-\\2', text)"
   ]
  },
  {
   "cell_type": "code",
   "execution_count": 61,
   "id": "e9d3dade-fdeb-4ab0-9473-6d85fbfde1f8",
   "metadata": {},
   "outputs": [
    {
     "data": {
      "text/plain": [
       "'Today is 27 Nov 2012. PyCon starts 13 Mar 2013.'"
      ]
     },
     "execution_count": 61,
     "metadata": {},
     "output_type": "execute_result"
    }
   ],
   "source": [
    "import re\n",
    "from calendar import month_abbr\n",
    "text = 'Today is 11/27/2012. PyCon starts 3/13/2013.'\n",
    "datepat = re.compile(r'(\\d+)/(\\d+)/(\\d+)')\n",
    "\n",
    "def change_date(m):\n",
    "    mon_name = month_abbr[int(m.group(1))]\n",
    "    return '{} {} {}'.format(m.group(2), mon_name, m.group(3))\n",
    "\n",
    "datepat.sub(change_date, text)"
   ]
  },
  {
   "cell_type": "code",
   "execution_count": 64,
   "id": "f6681c8e-b58e-4ccd-b741-8287519596e2",
   "metadata": {},
   "outputs": [
    {
     "name": "stdout",
     "output_type": "stream",
     "text": [
      "['PYTHON', 'python', 'Python']\n",
      "UPPER snake, lower snake, Mixed snake\n"
     ]
    }
   ],
   "source": [
    "import re\n",
    "text = 'UPPER PYTHON, lower python, Mixed Python'\n",
    "print(re.findall('python', text, flags=re.IGNORECASE))\n",
    "\n",
    "print(re.sub('python', 'snake', text, flags=re.IGNORECASE))"
   ]
  },
  {
   "cell_type": "code",
   "execution_count": 68,
   "id": "e3c59960-9f50-431d-bd82-5daca272c5d2",
   "metadata": {},
   "outputs": [
    {
     "name": "stdout",
     "output_type": "stream",
     "text": [
      "['no.']\n",
      "['no.\" Phone says \"yes.']\n",
      "['no.']\n",
      "['no.', 'yes.']\n"
     ]
    }
   ],
   "source": [
    "import re\n",
    "str_pat = re.compile(r'\\\"(.*)\\\"')\n",
    "text1 = 'Computer says \"no.\"'\n",
    "print(str_pat.findall(text1))\n",
    "\n",
    "text2 = 'Computer syas \"no.\" Phone says \"yes.\"'\n",
    "print(str_pat.findall(text2))\n",
    "\n",
    "str_pat2 = re.compile(r'\\\"(.*?)\\\"')\n",
    "print(str_pat2.findall(text1))\n",
    "print(str_pat2.findall(text2))"
   ]
  },
  {
   "cell_type": "code",
   "execution_count": 72,
   "id": "9af2935d-94e8-4b81-b8f8-6189e94f4f26",
   "metadata": {},
   "outputs": [
    {
     "name": "stdout",
     "output_type": "stream",
     "text": [
      "[' this is a commect ']\n",
      "[' this is a\\n              multiline comment ']\n"
     ]
    }
   ],
   "source": [
    "import re\n",
    "comment = re.compile(r'/\\*(.*?)\\*/', re.DOTALL)\n",
    "text1 = '/* this is a commect */'\n",
    "text2 = '''/* this is a\n",
    "              multiline comment */\n",
    "        '''\n",
    "\n",
    "print(comment.findall(text1))\n",
    "print(comment.findall(text2))"
   ]
  },
  {
   "cell_type": "code",
   "execution_count": 75,
   "id": "81ed394a-62a0-4804-ae57-cea9d0ba6a73",
   "metadata": {},
   "outputs": [
    {
     "name": "stdout",
     "output_type": "stream",
     "text": [
      "Spicy Jalapeño 14\n",
      "Spicy Jalapeño 15\n",
      "True\n",
      "Spicy Jalapeño\n"
     ]
    }
   ],
   "source": [
    "s1 = 'Spicy Jalape\\u00f1o'\n",
    "s2 = 'Spicy Jalapen\\u0303o'\n",
    "print(s1, len(s1))\n",
    "print(s2, len(s2))\n",
    "\n",
    "import unicodedata\n",
    "t1 = unicodedata.normalize('NFC', s1)\n",
    "t2 = unicodedata.normalize('NFC', s2)\n",
    "\n",
    "print(t1 == t2)\n",
    "print(t1)\n"
   ]
  },
  {
   "cell_type": "code",
   "execution_count": 4,
   "id": "92234978-9834-49d9-902e-5405a21fea41",
   "metadata": {},
   "outputs": [
    {
     "name": "stdout",
     "output_type": "stream",
     "text": [
      "hello world\n",
      "hello world  \n",
      "\n",
      "    hello world\n",
      "hello=====\n",
      "-----hello\n",
      "hello\n"
     ]
    }
   ],
   "source": [
    "s = '    hello world  \\n'\n",
    "print(s.strip())\n",
    "print(s.lstrip())\n",
    "print(s.rstrip())\n",
    "\n",
    "t = '-----hello====='\n",
    "print(t.lstrip('-'))\n",
    "print(t.rstrip('='))\n",
    "print(t.strip('-='))"
   ]
  },
  {
   "cell_type": "code",
   "execution_count": 18,
   "id": "9cf57561-4927-48ec-882d-000833d95761",
   "metadata": {},
   "outputs": [
    {
     "name": "stdout",
     "output_type": "stream",
     "text": [
      "hello        world\n",
      "helloworld\n",
      "hello world\n"
     ]
    }
   ],
   "source": [
    "s = '  hello        world    \\n'\n",
    "s = s.strip()\n",
    "print(s)\n",
    "print(s.replace(' ', ''))\n",
    "\n",
    "import re\n",
    "s = '  hello        world    \\n'\n",
    "print(re.sub(r'\\s+', ' ', s.strip()))"
   ]
  },
  {
   "cell_type": "code",
   "execution_count": 20,
   "id": "2f694080-63f1-4f57-b341-2cfa425214be",
   "metadata": {},
   "outputs": [
    {
     "name": "stdout",
     "output_type": "stream",
     "text": [
      "pýtĥöñ\f",
      "is\tawesome\n",
      "\n"
     ]
    }
   ],
   "source": [
    "s = 'pýtĥöñ\\x0cis\\tawesome\\r\\n'\n",
    "print(s)"
   ]
  },
  {
   "cell_type": "code",
   "execution_count": 33,
   "id": "0bfaf677-8efb-45cf-ba33-eda84ad1b4cc",
   "metadata": {},
   "outputs": [
    {
     "name": "stdout",
     "output_type": "stream",
     "text": [
      "Hello World         \n",
      "         Hello World\n",
      "    Hello World     \n",
      "=========Hello World\n",
      "****Hello World*****\n",
      "         Hello World\n",
      "=========Hello World\n",
      "****Hello World*****\n",
      "     Hello      World\n",
      "***1.23456\n",
      "**1.235***\n"
     ]
    }
   ],
   "source": [
    "text = 'Hello World'\n",
    "print(text.ljust(20))\n",
    "print(text.rjust(20))\n",
    "print(text.center(20))\n",
    "print(text.rjust(20,'='))\n",
    "print(text.center(20,'*'))\n",
    "\n",
    "print(format(text, '>20'))\n",
    "print(format(text, '=>20s'))\n",
    "print(format(text, '*^20s'))\n",
    "\n",
    "print('{:>10s} {:>10s}'.format('Hello', 'World'))\n",
    "\n",
    "x = 1.23456\n",
    "print(format(x, '*>10'))\n",
    "print(format(x, '*^10.3f'))"
   ]
  },
  {
   "cell_type": "code",
   "execution_count": 39,
   "id": "08723a8a-76be-44b7-9748-f357c6e3cbb3",
   "metadata": {},
   "outputs": [
    {
     "name": "stdout",
     "output_type": "stream",
     "text": [
      "IsChicagoNotChicago?\n",
      "Is,Chicago,Not,Chicago?\n",
      "Is Chicago Not Chicago?\n",
      "Is Chicago Not Chicago?\n",
      "HelloWorld\n"
     ]
    }
   ],
   "source": [
    "parts = ['Is', 'Chicago', 'Not', 'Chicago?']\n",
    "print(''.join(parts))\n",
    "print(','.join(parts))\n",
    "print(' '.join(parts))\n",
    "\n",
    "a = 'Is Chicago'\n",
    "b = 'Not Chicago?'\n",
    "print(a + ' ' + b)\n",
    "\n",
    "c = 'Hello' 'World'\n",
    "print(c)"
   ]
  },
  {
   "cell_type": "code",
   "execution_count": 42,
   "id": "ee39ebb0-de80-40ee-a04a-c97d9781479b",
   "metadata": {},
   "outputs": [
    {
     "data": {
      "text/plain": [
       "'ACME,50,91.1'"
      ]
     },
     "execution_count": 42,
     "metadata": {},
     "output_type": "execute_result"
    }
   ],
   "source": [
    "data = ['ACME', 50, 91.1]\n",
    "','.join(str(d) for d in data)"
   ]
  },
  {
   "cell_type": "code",
   "execution_count": 44,
   "id": "bd89dc4e-9b2a-483c-a154-d36db50d326d",
   "metadata": {},
   "outputs": [
    {
     "name": "stdout",
     "output_type": "stream",
     "text": [
      "IsChicagoNotChicago?\n",
      "Is\n",
      "Chicago\n",
      "Not\n",
      "Chicago?\n"
     ]
    }
   ],
   "source": [
    "def sample():\n",
    "    yield 'Is'\n",
    "    yield 'Chicago'\n",
    "    yield 'Not'\n",
    "    yield 'Chicago?'\n",
    "\n",
    "text = ''.join(sample())\n",
    "print(text)\n",
    "\n",
    "for part in sample():\n",
    "    print(part)"
   ]
  },
  {
   "cell_type": "code",
   "execution_count": 53,
   "id": "04af58df-1627-478b-a531-20a3dccf2102",
   "metadata": {},
   "outputs": [
    {
     "name": "stdout",
     "output_type": "stream",
     "text": [
      "Guido has 37 messages.\n",
      "Guido has 37 messages.\n"
     ]
    }
   ],
   "source": [
    "s = '{name} has {n} messages.'\n",
    "t = s.format(name='Guido', n=37)\n",
    "print(t)\n",
    "\n",
    "name = 'Guido'\n",
    "n = 37\n",
    "print(s.format_map(vars()))"
   ]
  },
  {
   "cell_type": "code",
   "execution_count": 65,
   "id": "670b6483-9eee-42ec-8c2c-300880e8d7dc",
   "metadata": {},
   "outputs": [
    {
     "name": "stdout",
     "output_type": "stream",
     "text": [
      "149\n",
      "Look into my eyes, look into my eyes, the eyes, the eyes, the eyes, not around the eyes, don't look around the eyes, look into my eyes, you're under.\n",
      "\n",
      "Look into my eyes, look into my eyes, the eyes, the eyes, the eyes,\n",
      "not around the eyes, don't look around the eyes, look into my eyes,\n",
      "you're under.\n",
      "\n",
      "Look into my eyes, look into my eyes,\n",
      "the eyes, the eyes, the eyes, not around\n",
      "the eyes, don't look around the eyes,\n",
      "look into my eyes, you're under.\n",
      "\n",
      "    Look into my eyes, look into my\n",
      "eyes, the eyes, the eyes, the eyes, not\n",
      "around the eyes, don't look around the\n",
      "eyes, look into my eyes, you're under.\n",
      "\n",
      "Look into my eyes, look into my eyes,\n",
      "    the eyes, the eyes, the eyes, not\n",
      "    around the eyes, don't look around\n",
      "    the eyes, look into my eyes, you're\n",
      "    under.\n"
     ]
    }
   ],
   "source": [
    "s = 'Look into my eyes, look into my eyes, the eyes, the eyes, ' \\\n",
    "'the eyes, not around the eyes, don\\'t look around the eyes, ' \\\n",
    "'look into my eyes, you\\'re under.'\n",
    "\n",
    "print(len(s))\n",
    "\n",
    "import textwrap\n",
    "print(s)\n",
    "print()\n",
    "print(textwrap.fill(s, 70))\n",
    "print()\n",
    "print(textwrap.fill(s, 40))\n",
    "print()\n",
    "print(textwrap.fill(s, 40, initial_indent='    '))\n",
    "print()\n",
    "print(textwrap.fill(s, 40, subsequent_indent='    '))"
   ]
  },
  {
   "cell_type": "code",
   "execution_count": 67,
   "id": "02be26d1-e4b8-4135-92ba-8b9c6c4e3d61",
   "metadata": {},
   "outputs": [
    {
     "data": {
      "text/plain": [
       "238"
      ]
     },
     "execution_count": 67,
     "metadata": {},
     "output_type": "execute_result"
    }
   ],
   "source": [
    "import os\n",
    "os.get_terminal_size().columns"
   ]
  },
  {
   "cell_type": "code",
   "execution_count": 70,
   "id": "b2f1bf0a-47b7-4433-811f-628915053b68",
   "metadata": {},
   "outputs": [
    {
     "name": "stdout",
     "output_type": "stream",
     "text": [
      "Elements are written as \"<tag>text</tag>\".\n",
      "Elements are written as &quot;&lt;tag&gt;text&lt;/tag&gt;&quot;.\n",
      "Elements are written as \"&lt;tag&gt;text&lt;/tag&gt;\".\n"
     ]
    }
   ],
   "source": [
    "s = 'Elements are written as \"<tag>text</tag>\".'\n",
    "import html\n",
    "print(s)\n",
    "print(html.escape(s))\n",
    "print(html.escape(s, quote=False))"
   ]
  },
  {
   "cell_type": "code",
   "execution_count": 72,
   "id": "64990db0-abaf-489e-bfcc-a119067e24f0",
   "metadata": {},
   "outputs": [
    {
     "data": {
      "text/plain": [
       "b'Spicy Jalape&#241;o'"
      ]
     },
     "execution_count": 72,
     "metadata": {},
     "output_type": "execute_result"
    }
   ],
   "source": [
    "s = 'Spicy Jalapeño'\n",
    "s.encode('ascii', errors='xmlcharrefreplace')"
   ]
  },
  {
   "cell_type": "code",
   "execution_count": 5,
   "id": "3a02749d-5f61-46f1-8a62-f363c2ed6ff2",
   "metadata": {},
   "outputs": [
    {
     "name": "stdout",
     "output_type": "stream",
     "text": [
      "b'Hello'\n",
      "True\n",
      "[b'Hello', b'World']\n",
      "b'Hello Cruel World'\n"
     ]
    }
   ],
   "source": [
    "data = b'Hello World'\n",
    "print(data[0:5])\n",
    "print(data.startswith(b'Hello'))\n",
    "print(data.split())\n",
    "print(data.replace(b'Hello', b'Hello Cruel'))"
   ]
  },
  {
   "cell_type": "code",
   "execution_count": 9,
   "id": "f88889df-c017-409d-9281-aba758b2a233",
   "metadata": {},
   "outputs": [
    {
     "name": "stdout",
     "output_type": "stream",
     "text": [
      "bytearray(b'Hello World')\n",
      "bytearray(b'Hello')\n",
      "True\n",
      "[bytearray(b'Hello'), bytearray(b'World')]\n",
      "bytearray(b'Hello Cruel World')\n"
     ]
    }
   ],
   "source": [
    "data = bytearray(b'Hello World')\n",
    "print(data)\n",
    "print(data[0:5])\n",
    "print(data.startswith(b'Hello'))\n",
    "print(data.split())\n",
    "print(data.replace(b'Hello', b'Hello Cruel'))"
   ]
  },
  {
   "cell_type": "code",
   "execution_count": 12,
   "id": "97d5f377-d015-47a1-b244-85940cb8ca15",
   "metadata": {},
   "outputs": [
    {
     "data": {
      "text/plain": [
       "[b'FOO', b'BAR', b'SPAM']"
      ]
     },
     "execution_count": 12,
     "metadata": {},
     "output_type": "execute_result"
    }
   ],
   "source": [
    "data = b'FOO:BAR,SPAM'\n",
    "import re\n",
    "re.split(b'[:,]', data)"
   ]
  },
  {
   "cell_type": "code",
   "execution_count": null,
   "id": "8608a89a-73f2-41c0-b5df-2e2378438f3a",
   "metadata": {},
   "outputs": [],
   "source": []
  }
 ],
 "metadata": {
  "kernelspec": {
   "display_name": "Python 3 (ipykernel)",
   "language": "python",
   "name": "python3"
  },
  "language_info": {
   "codemirror_mode": {
    "name": "ipython",
    "version": 3
   },
   "file_extension": ".py",
   "mimetype": "text/x-python",
   "name": "python",
   "nbconvert_exporter": "python",
   "pygments_lexer": "ipython3",
   "version": "3.12.7"
  }
 },
 "nbformat": 4,
 "nbformat_minor": 5
}

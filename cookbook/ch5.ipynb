{
 "cells": [
  {
   "cell_type": "code",
   "execution_count": 2,
   "id": "9f7f954e-c644-49ae-b06f-2b9f2e06a11c",
   "metadata": {},
   "outputs": [
    {
     "name": "stdout",
     "output_type": "stream",
     "text": [
      "utf-8\n"
     ]
    }
   ],
   "source": [
    "import sys\n",
    "print(sys.getdefaultencoding())"
   ]
  },
  {
   "cell_type": "code",
   "execution_count": 3,
   "id": "8f40a6f7-c240-4dff-abec-83a219bbb6f4",
   "metadata": {},
   "outputs": [
    {
     "name": "stdout",
     "output_type": "stream",
     "text": [
      "ACME 50 91.5\n",
      "ACME,50,91.5\n",
      "ACME,50,91.5!!\n"
     ]
    }
   ],
   "source": [
    "print('ACME', 50, 91.5)\n",
    "print('ACME', 50, 91.5, sep=',')\n",
    "print('ACME', 50, 91.5, sep=',', end='!!\\n')"
   ]
  },
  {
   "cell_type": "code",
   "execution_count": 4,
   "id": "4cfa859d-be63-4512-b783-cd2b1c89491a",
   "metadata": {},
   "outputs": [
    {
     "name": "stdout",
     "output_type": "stream",
     "text": [
      "0\n",
      "1\n",
      "2\n",
      "3\n",
      "4\n"
     ]
    }
   ],
   "source": [
    "for i in range(5):\n",
    "    print(i)"
   ]
  },
  {
   "cell_type": "code",
   "execution_count": 7,
   "id": "c0e8756d-a014-4e2b-a002-cb00dd2f908b",
   "metadata": {},
   "outputs": [
    {
     "name": "stdout",
     "output_type": "stream",
     "text": [
      "0 1 2 3 4 "
     ]
    }
   ],
   "source": [
    "for i in range(5):\n",
    "    print(i, end=' ')"
   ]
  },
  {
   "cell_type": "code",
   "execution_count": 9,
   "id": "ee6268f1-37b2-43f2-b825-d692e6d91686",
   "metadata": {},
   "outputs": [
    {
     "name": "stdout",
     "output_type": "stream",
     "text": [
      "72\n",
      "72\n",
      "101\n",
      "108\n",
      "108\n",
      "111\n",
      "32\n",
      "87\n",
      "111\n",
      "114\n",
      "108\n",
      "100\n"
     ]
    }
   ],
   "source": [
    "b = b'Hello World'\n",
    "print(b[0])\n",
    "\n",
    "for c in b:\n",
    "    print(c)"
   ]
  },
  {
   "cell_type": "code",
   "execution_count": 12,
   "id": "b86140db-6373-40b6-bddd-3f80c10f1c31",
   "metadata": {},
   "outputs": [],
   "source": [
    "with open('somefile2.txt', 'wt') as f:\n",
    "    f.write('Hello2\\n')"
   ]
  },
  {
   "cell_type": "code",
   "execution_count": 9,
   "id": "cc663f50-ed4d-406a-9b17-e8953731f58e",
   "metadata": {},
   "outputs": [
    {
     "name": "stdout",
     "output_type": "stream",
     "text": [
      "C:\\Users\\jiangy2o\\OneDrive\\Documents\\root\\dev\\src\n",
      "src\n",
      "C:\\Users\\jiangy2o\\OneDrive\\Documents\\root\\dev\n",
      "temp\\data\\src\n",
      "C:\\Users\\jiangy2o\\Data\\data.csv\n"
     ]
    },
    {
     "data": {
      "text/plain": [
       "('C:\\\\Users\\\\jiangy2o\\\\OneDrive\\\\Documents\\\\root\\\\dev\\\\src\\\\test\\\\agent',\n",
       " '.py')"
      ]
     },
     "execution_count": 9,
     "metadata": {},
     "output_type": "execute_result"
    }
   ],
   "source": [
    "import os\n",
    "path = r'C:\\Users\\jiangy2o\\OneDrive\\Documents\\root\\dev\\src'\n",
    "print(path)\n",
    "\n",
    "print(os.path.basename(path))\n",
    "print(os.path.dirname(path))\n",
    "print(os.path.join('temp', 'data', os.path.basename(path)))\n",
    "\n",
    "path = r'~\\Data\\data.csv'\n",
    "print(os.path.expanduser(path))\n",
    "\n",
    "path = r'C:\\Users\\jiangy2o\\OneDrive\\Documents\\root\\dev\\src\\test\\agent.py'\n",
    "os.path.splitext(path)"
   ]
  },
  {
   "cell_type": "code",
   "execution_count": 25,
   "id": "b1877f20-ebd5-43ab-8e7a-ffca7c73b136",
   "metadata": {},
   "outputs": [
    {
     "name": "stdout",
     "output_type": "stream",
     "text": [
      "C:\\Users\\jiangy2o\\OneDrive\\Documents\\root\\dev\\src\\test\n",
      "C:\\Users\\jiangy2o\\OneDrive\\Documents\\root\\dev\\src\\test\\agent.py\n",
      "\n",
      "True\n",
      "True\n",
      "Is file: False\n",
      "Is file: True\n",
      "Is dir: True\n",
      "Is dir: False\n",
      "4096 7424\n",
      "1732690828.119678 1731877603.0\n",
      "Wed Nov 27 20:00:28 2024\n"
     ]
    }
   ],
   "source": [
    "import os\n",
    "path = r'C:\\Users\\jiangy2o\\OneDrive\\Documents\\root\\dev\\src\\test'\n",
    "filepath = os.path.join(path, 'agent.py')\n",
    "\n",
    "print(path)\n",
    "print(filepath)\n",
    "print()\n",
    "\n",
    "print(os.path.exists(path))\n",
    "print(os.path.exists(os.path.join(path, 'agent.py')))\n",
    "\n",
    "print('Is file:', os.path.isfile(path))\n",
    "print('Is file:', os.path.isfile(filepath))\n",
    "\n",
    "print('Is dir:', os.path.isdir(path))\n",
    "print('Is dir:', os.path.isdir(filepath))\n",
    "\n",
    "print(os.path.getsize(path), os.path.getsize(filepath))\n",
    "print(os.path.getmtime(path), os.path.getmtime(filepath))\n",
    "\n",
    "import time\n",
    "print(time.ctime(os.path.getmtime(path)))"
   ]
  },
  {
   "cell_type": "code",
   "execution_count": 34,
   "id": "a452dcb6-1e61-4e03-bab7-e6f4443159b5",
   "metadata": {},
   "outputs": [
    {
     "name": "stdout",
     "output_type": "stream",
     "text": [
      "['.vscode', 'agent.py', 'audio_file.py', 'bytesfly', 'contact.py', 'cookbook', 'dash', 'obj_serialize.py', 'pandas', 'pickled_list', 'py3-notebook', 'py3-obj', 'regex_generic.py', 'singleton.py', 'state.xml', 'state1.py', 'string_template.py', 'test.py']\n",
      "\n",
      "18\n",
      "\n",
      "['agent.py', 'audio_file.py', 'contact.py', 'obj_serialize.py', 'pickled_list', 'regex_generic.py', 'singleton.py', 'state.xml', 'state1.py', 'string_template.py', 'test.py']\n",
      "\n",
      "['.vscode', 'bytesfly', 'cookbook', 'dash', 'pandas', 'py3-notebook', 'py3-obj']\n",
      "\n",
      "['agent.py', 'audio_file.py', 'contact.py', 'obj_serialize.py', 'regex_generic.py', 'singleton.py', 'state1.py', 'string_template.py', 'test.py']\n"
     ]
    }
   ],
   "source": [
    "import os\n",
    "path = r'C:\\Users\\jiangy2o\\OneDrive\\Documents\\root\\dev\\src\\test'\n",
    "names = os.listdir(path)\n",
    "print(names)\n",
    "print()\n",
    "print(len(names))\n",
    "print()\n",
    "file_names_in_folder = [name for name in os.listdir(path) if os.path.isfile(os.path.join(path, name))]\n",
    "print(file_names_in_folder)\n",
    "print()\n",
    "folder_names_in_folder = [name for name in os.listdir(path) if os.path.isdir(os.path.join(path, name))]\n",
    "print(folder_names_in_folder)\n",
    "print()\n",
    "\n",
    "py_files = [name for name in os.listdir(path) if name.endswith('.py')]\n",
    "print(py_files)"
   ]
  },
  {
   "cell_type": "code",
   "execution_count": 37,
   "id": "59f35080-f28a-40f7-8fa9-2f23a4ac653e",
   "metadata": {},
   "outputs": [
    {
     "name": "stdout",
     "output_type": "stream",
     "text": [
      "Hello World\n",
      "Testing\n"
     ]
    }
   ],
   "source": [
    "from tempfile import TemporaryFile\n",
    "\n",
    "with TemporaryFile('w+t') as f:\n",
    "    f.write('Hello World\\n')\n",
    "    f.write('Testing')\n",
    "\n",
    "    f.seek(0)\n",
    "    data = f.read()\n",
    "    print(data)\n"
   ]
  }
 ],
 "metadata": {
  "kernelspec": {
   "display_name": "Python 3 (ipykernel)",
   "language": "python",
   "name": "python3"
  },
  "language_info": {
   "codemirror_mode": {
    "name": "ipython",
    "version": 3
   },
   "file_extension": ".py",
   "mimetype": "text/x-python",
   "name": "python",
   "nbconvert_exporter": "python",
   "pygments_lexer": "ipython3",
   "version": "3.12.7"
  }
 },
 "nbformat": 4,
 "nbformat_minor": 5
}

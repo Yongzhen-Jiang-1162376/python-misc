{
 "cells": [
  {
   "cell_type": "code",
   "execution_count": 2,
   "id": "db5b6b6d-87cf-4e9d-967a-d7974d450913",
   "metadata": {},
   "outputs": [
    {
     "name": "stdout",
     "output_type": "stream",
     "text": [
      "1.2\n",
      "1.3\n",
      "-1.3\n",
      "1.254\n"
     ]
    }
   ],
   "source": [
    "print(round(1.23, 1))\n",
    "print(round(1.27, 1))\n",
    "print(round(-1.27, 1))\n",
    "print(round(1.25361, 3))"
   ]
  },
  {
   "cell_type": "code",
   "execution_count": 5,
   "id": "1d5485e4-5a6c-4cf4-a6f1-1f6bb2783734",
   "metadata": {},
   "outputs": [
    {
     "data": {
      "text/plain": [
       "1628000"
      ]
     },
     "execution_count": 5,
     "metadata": {},
     "output_type": "execute_result"
    }
   ],
   "source": [
    "a = 1627731\n",
    "round(a, -1)\n",
    "round(a, -2)\n",
    "round(a, -3)"
   ]
  },
  {
   "cell_type": "code",
   "execution_count": 6,
   "id": "d226f8cc-64a4-46a0-ac6f-2f0878217adc",
   "metadata": {},
   "outputs": [
    {
     "name": "stdout",
     "output_type": "stream",
     "text": [
      "1.23\n",
      "1.235\n",
      "value is 1.235\n"
     ]
    }
   ],
   "source": [
    "x = 1.23456\n",
    "print(format(x, '0.2f'))\n",
    "print(format(x, '0.3f'))\n",
    "print('value is {:0.3f}'.format(x))"
   ]
  },
  {
   "cell_type": "code",
   "execution_count": 7,
   "id": "0e631875-37b4-4e71-8dba-7649da9a0fa9",
   "metadata": {},
   "outputs": [
    {
     "name": "stdout",
     "output_type": "stream",
     "text": [
      "6.300000000000001\n",
      "6.3\n"
     ]
    }
   ],
   "source": [
    "a = 2.1\n",
    "b = 4.2\n",
    "c = a + b\n",
    "print(c)\n",
    "c = round(c, 2)\n",
    "print(c)"
   ]
  },
  {
   "cell_type": "code",
   "execution_count": 13,
   "id": "cb0de6a3-b784-4d49-bf00-fdebdecb3e9f",
   "metadata": {},
   "outputs": [
    {
     "name": "stdout",
     "output_type": "stream",
     "text": [
      "6.3\n",
      "True\n"
     ]
    }
   ],
   "source": [
    "from decimal import Decimal\n",
    "a = Decimal('4.2')\n",
    "b = Decimal('2.1')\n",
    "print(a + b)\n",
    "print((a + b) == Decimal('6.3'))"
   ]
  },
  {
   "cell_type": "code",
   "execution_count": 15,
   "id": "2c162839-f311-4b50-976c-8019a565acc7",
   "metadata": {},
   "outputs": [
    {
     "name": "stdout",
     "output_type": "stream",
     "text": [
      "0.7647058823529411764705882353\n",
      "0.765\n",
      "0.76470588235294117647058823529411764705882352941176\n"
     ]
    }
   ],
   "source": [
    "from decimal import Decimal, localcontext\n",
    "a = Decimal('1.3')\n",
    "b = Decimal('1.7')\n",
    "print(a / b)\n",
    "with localcontext() as ctx:\n",
    "    ctx.prec = 3\n",
    "    print(a / b)\n",
    "\n",
    "with localcontext() as ctx:\n",
    "    ctx.prec = 50\n",
    "    print(a / b)"
   ]
  },
  {
   "cell_type": "code",
   "execution_count": 16,
   "id": "f52a2777-86e4-4f3c-a10f-2cbfe9404434",
   "metadata": {},
   "outputs": [
    {
     "name": "stdout",
     "output_type": "stream",
     "text": [
      "0.0\n",
      "1.0\n"
     ]
    }
   ],
   "source": [
    "nums = [1.23e+18, 1, -1.23e+18]\n",
    "print(sum(nums))\n",
    "\n",
    "import math\n",
    "print(math.fsum(nums))"
   ]
  },
  {
   "cell_type": "code",
   "execution_count": 22,
   "id": "3e1279f4-e0c0-4584-accb-c5a0ba30d8fa",
   "metadata": {},
   "outputs": [
    {
     "name": "stdout",
     "output_type": "stream",
     "text": [
      "1234.57\n",
      "    1234.6\n",
      "1234.6    \n",
      "  1234.6  \n",
      "1,234.56789\n",
      "1,234.6\n",
      "1.234568e+03\n",
      "1.23E+03\n"
     ]
    }
   ],
   "source": [
    "x = 1234.56789\n",
    "print(format(x, '0.2f'))\n",
    "print(format(x, '>10.1f'))\n",
    "print(format(x, '<10.1f'))\n",
    "print(format(x, '^10.1f'))\n",
    "print(format(x, '0,'))\n",
    "print(format(x, '0,.1f'))\n",
    "print(format(x, 'e'))\n",
    "print(format(x, '0.2E'))"
   ]
  },
  {
   "cell_type": "code",
   "execution_count": 25,
   "id": "069af49b-f7b9-4b04-83be-b39b9c46f1a5",
   "metadata": {},
   "outputs": [
    {
     "name": "stdout",
     "output_type": "stream",
     "text": [
      "0b10011010010\n",
      "0o2322\n",
      "0x4d2\n",
      "10011010010\n",
      "2322\n",
      "4d2\n",
      "1234\n",
      "1234\n"
     ]
    }
   ],
   "source": [
    "x = 1234\n",
    "print(bin(x))\n",
    "print(oct(x))\n",
    "print(hex(x))\n",
    "print(format(x, 'b'))\n",
    "print(format(x, 'o'))\n",
    "print(format(x, 'x'))\n",
    "\n",
    "print(int('4d2', 16))\n",
    "print(int('10011010010', 2))"
   ]
  },
  {
   "cell_type": "code",
   "execution_count": 28,
   "id": "6395a6ae-8772-4bfc-8bec-afc125877dcd",
   "metadata": {},
   "outputs": [
    {
     "name": "stdout",
     "output_type": "stream",
     "text": [
      "16\n",
      "69120565665751139577663547927094891008\n",
      "94522842520747284487117727783387188\n",
      "b'\\x00\\x124V\\x00x\\x90\\xab\\x00\\xcd\\xef\\x01\\x00#\\x004'\n",
      "b'4\\x00#\\x00\\x01\\xef\\xcd\\x00\\xab\\x90x\\x00V4\\x12\\x00'\n"
     ]
    }
   ],
   "source": [
    "data = b'\\x00\\x124V\\x00x\\x90\\xab\\x00\\xcd\\xef\\x01\\x00#\\x004'\n",
    "print(len(data))\n",
    "print(int.from_bytes(data, 'little'))\n",
    "print(int.from_bytes(data, 'big'))\n",
    "\n",
    "x = 94522842520747284487117727783387188\n",
    "print(x.to_bytes(16, 'big'))\n",
    "print(x.to_bytes(16, 'little'))"
   ]
  },
  {
   "cell_type": "code",
   "execution_count": 30,
   "id": "264aa15e-a84f-440d-aa5e-572a04fe10c9",
   "metadata": {},
   "outputs": [
    {
     "name": "stdout",
     "output_type": "stream",
     "text": [
      "inf -inf nan\n",
      "True\n",
      "True\n",
      "True\n"
     ]
    }
   ],
   "source": [
    "a = float('inf')\n",
    "b = float('-inf')\n",
    "c = float('nan')\n",
    "print(a, b, c)\n",
    "\n",
    "import math\n",
    "print(math.isinf(a))\n",
    "print(math.isnan(c))\n",
    "print(math.isinf(b))"
   ]
  },
  {
   "cell_type": "code",
   "execution_count": 32,
   "id": "c08841e6-b976-4f5e-ab17-303a44b1c93e",
   "metadata": {},
   "outputs": [
    {
     "name": "stdout",
     "output_type": "stream",
     "text": [
      "27/16\n",
      "35/64\n",
      "35\n",
      "64\n"
     ]
    }
   ],
   "source": [
    "from fractions import Fraction\n",
    "a = Fraction(5, 4)\n",
    "b = Fraction(7, 16)\n",
    "print(a + b)\n",
    "print(a * b)\n",
    "c = a * b\n",
    "print(c.numerator)\n",
    "print(c.denominator)"
   ]
  },
  {
   "cell_type": "code",
   "execution_count": 41,
   "id": "b680dbbd-dfb3-4309-ae61-d142f267c3f6",
   "metadata": {},
   "outputs": [
    {
     "name": "stdout",
     "output_type": "stream",
     "text": [
      "1\n",
      "4\n",
      "6\n",
      "2\n",
      "1\n",
      "[1, 2]\n",
      "[6, 4]\n",
      "[2, 4, 5]\n",
      "[5, 3, 4]\n",
      "[1, 2, 3, 4, 5, 6]\n",
      "[5, 6, 4, 1, 3, 2]\n",
      "[1, 6, 5, 3, 2, 4]\n",
      "6\n",
      "0.10526217351955003\n",
      "373251995529096947419739934783654522754437509237135999312391\n"
     ]
    }
   ],
   "source": [
    "import random\n",
    "values = [1, 2, 3, 4 ,5, 6]\n",
    "print(random.choice(values))\n",
    "print(random.choice(values))\n",
    "print(random.choice(values))\n",
    "print(random.choice(values))\n",
    "print(random.choice(values))\n",
    "\n",
    "print(random.sample(values, 2))\n",
    "print(random.sample(values, 2))\n",
    "print(random.sample(values, 3))\n",
    "print(random.sample(values, 3))\n",
    "\n",
    "print(values)\n",
    "random.shuffle(values)\n",
    "print(values)\n",
    "random.shuffle(values)\n",
    "print(values)\n",
    "\n",
    "print(random.randint(2, 10))\n",
    "print(random.random())\n",
    "\n",
    "print(random.getrandbits(200))"
   ]
  },
  {
   "cell_type": "code",
   "execution_count": 43,
   "id": "f1371416-56ee-472e-9fa9-95efc9108f85",
   "metadata": {},
   "outputs": [
    {
     "name": "stdout",
     "output_type": "stream",
     "text": [
      "2\n",
      "37800\n",
      "10.5\n",
      "58.5\n"
     ]
    }
   ],
   "source": [
    "from datetime import timedelta\n",
    "a = timedelta(days=2, hours=6)\n",
    "b = timedelta(hours=4.5)\n",
    "c = a + b\n",
    "print(c.days)\n",
    "print(c.seconds)\n",
    "print(c.seconds / 3600)\n",
    "print(c.total_seconds() / 3600)"
   ]
  },
  {
   "cell_type": "code",
   "execution_count": 44,
   "id": "566577b9-6049-48a0-bd33-627fad52b4ac",
   "metadata": {},
   "outputs": [
    {
     "name": "stdout",
     "output_type": "stream",
     "text": [
      "2012-10-03 00:00:00\n",
      "89\n",
      "2024-11-26 22:44:05.029074\n",
      "2024-11-26 22:54:05.029074\n"
     ]
    }
   ],
   "source": [
    "from datetime import datetime, timedelta\n",
    "a = datetime(2012, 9, 23)\n",
    "print(a + timedelta(days=10))\n",
    "b = datetime(2012, 12, 21)\n",
    "d = b - a\n",
    "print(d.days)\n",
    "\n",
    "now = datetime.today()\n",
    "print(now)\n",
    "print(now + timedelta(minutes=10))"
   ]
  },
  {
   "cell_type": "code",
   "execution_count": 48,
   "id": "ba57be73-beee-4f80-a60e-1db5f266a8ee",
   "metadata": {},
   "outputs": [
    {
     "name": "stdout",
     "output_type": "stream",
     "text": [
      "2 days, 0:00:00\n",
      "1\n"
     ]
    }
   ],
   "source": [
    "from datetime import datetime\n",
    "a = datetime(2012, 3, 1)\n",
    "b = datetime(2012, 2, 28)\n",
    "print(a - b)\n",
    "\n",
    "c = datetime(2013, 3, 1)\n",
    "d = datetime(2013, 2, 28)\n",
    "print((c - d).days)"
   ]
  },
  {
   "cell_type": "code",
   "execution_count": null,
   "id": "c5aac3be-d1f6-43f3-be57-ceb1a34dd1ed",
   "metadata": {},
   "outputs": [],
   "source": []
  }
 ],
 "metadata": {
  "kernelspec": {
   "display_name": "Python 3 (ipykernel)",
   "language": "python",
   "name": "python3"
  },
  "language_info": {
   "codemirror_mode": {
    "name": "ipython",
    "version": 3
   },
   "file_extension": ".py",
   "mimetype": "text/x-python",
   "name": "python",
   "nbconvert_exporter": "python",
   "pygments_lexer": "ipython3",
   "version": "3.12.7"
  }
 },
 "nbformat": 4,
 "nbformat_minor": 5
}

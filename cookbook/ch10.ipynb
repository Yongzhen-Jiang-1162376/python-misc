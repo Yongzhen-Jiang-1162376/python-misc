{
 "cells": [
  {
   "cell_type": "code",
   "execution_count": 4,
   "id": "b71c56f3-21a7-4cd8-bc9e-ce2c32ff6508",
   "metadata": {},
   "outputs": [
    {
     "name": "stdout",
     "output_type": "stream",
     "text": [
      "(b'{\\n  \"args\": {\\n    \"name1\": \"value1\", \\n    \"name2\": \"2\"\\n  }, \\n  \"head'\n",
      " b'ers\": {\\n    \"Accept-Encoding\": \"identity\", \\n    \"Host\": \"httpbin.org\", \\n'\n",
      " b'    \"Spam\": \"Eggs\", \\n    \"User-Agent\": \"none/ofyourbusiness\", \\n    \"X-Am'\n",
      " b'zn-Trace-Id\": \"Root=1-676901c0-456f74b96ab0da48268fdd69\"\\n  }, \\n  \"origin'\n",
      " b'\": \"103.240.52.25\", \\n  \"url\": \"http://httpbin.org/get?name1=value1&name2'\n",
      " b'=2\"\\n}\\n')\n"
     ]
    }
   ],
   "source": [
    "from urllib import request, parse\n",
    "from pprint import pprint\n",
    "\n",
    "url = 'http://httpbin.org/get'\n",
    "\n",
    "parms = {\n",
    "    'name1': 'value1',\n",
    "    'name2': 2\n",
    "}\n",
    "\n",
    "querystring = parse.urlencode(parms)\n",
    "\n",
    "headers = {\n",
    "    'User-Agent': 'none/ofyourbusiness',\n",
    "    'Spam': 'Eggs'\n",
    "}\n",
    "\n",
    "full_url = url + '?' + querystring\n",
    "\n",
    "req = request.Request(full_url, headers=headers)\n",
    "\n",
    "u = request.urlopen(req)\n",
    "resp = u.read()\n",
    "pprint(resp)"
   ]
  },
  {
   "cell_type": "code",
   "execution_count": 7,
   "id": "b86ff5e7-acdf-43ab-b7e1-5200aa029ef1",
   "metadata": {},
   "outputs": [
    {
     "name": "stdout",
     "output_type": "stream",
     "text": [
      "('{\\n'\n",
      " '  \"args\": {}, \\n'\n",
      " '  \"data\": \"\", \\n'\n",
      " '  \"files\": {}, \\n'\n",
      " '  \"form\": {\\n'\n",
      " '    \"name1\": \"value1\", \\n'\n",
      " '    \"name2\": \"value2\"\\n'\n",
      " '  }, \\n'\n",
      " '  \"headers\": {\\n'\n",
      " '    \"Accept\": \"*/*\", \\n'\n",
      " '    \"Accept-Encoding\": \"gzip, deflate\", \\n'\n",
      " '    \"Content-Length\": \"25\", \\n'\n",
      " '    \"Content-Type\": \"application/x-www-form-urlencoded\", \\n'\n",
      " '    \"Host\": \"httpbin.org\", \\n'\n",
      " '    \"Spam\": \"Eggs\", \\n'\n",
      " '    \"User-Agent\": \"none/ofyourbusiness\", \\n'\n",
      " '    \"X-Amzn-Trace-Id\": \"Root=1-676908d2-446bbf341f9cfc627c427f89\"\\n'\n",
      " '  }, \\n'\n",
      " '  \"json\": null, \\n'\n",
      " '  \"origin\": \"103.240.52.25\", \\n'\n",
      " '  \"url\": \"http://httpbin.org/post\"\\n'\n",
      " '}\\n')\n"
     ]
    }
   ],
   "source": [
    "import requests\n",
    "from pprint import pprint\n",
    "\n",
    "url = 'http://httpbin.org/post'\n",
    "parms = {\n",
    "    'name1': 'value1',\n",
    "    'name2': 'value2'\n",
    "}\n",
    "\n",
    "headers = {\n",
    "    'User-agent': 'none/ofyourbusiness',\n",
    "    'Spam': 'Eggs'\n",
    "}\n",
    "\n",
    "resp = requests.post(url, data=parms, headers=headers)\n",
    "\n",
    "text = resp.text\n",
    "\n",
    "pprint(text)"
   ]
  },
  {
   "cell_type": "code",
   "execution_count": 12,
   "id": "b53d4093-3cd9-4b2a-9e9a-30ec4510969f",
   "metadata": {},
   "outputs": [
    {
     "name": "stdout",
     "output_type": "stream",
     "text": [
      "{'Connection': 'close', 'Content-Length': '0', 'Server': 'Varnish', 'Retry-After': '0', 'Location': 'https://www.python.org/index.hmlt', 'Accept-Ranges': 'bytes', 'Date': 'Mon, 23 Dec 2024 07:04:50 GMT', 'Via': '1.1 varnish', 'X-Served-By': 'cache-akl10330-AKL', 'X-Cache': 'HIT', 'X-Cache-Hits': '0', 'X-Timer': 'S1734937491.579480,VS0,VE0', 'Strict-Transport-Security': 'max-age=63072000; includeSubDomains; preload'}\n",
      "301\n",
      "None\n",
      "None\n",
      "'0'\n"
     ]
    }
   ],
   "source": [
    "import requests\n",
    "from pprint import pprint\n",
    "\n",
    "resp = requests.head('http://www.python.org/index.hmlt')\n",
    "\n",
    "pprint(resp.headers)\n",
    "\n",
    "status = resp.status_code\n",
    "last_modified = resp.headers.get('Last-Modified')\n",
    "content_type = resp.headers.get('Content-Type')\n",
    "content_length = resp.headers.get('Content-Length')\n",
    "\n",
    "pprint(status)\n",
    "pprint(last_modified)\n",
    "pprint(content_type)\n",
    "pprint(content_length)\n"
   ]
  },
  {
   "cell_type": "code",
   "execution_count": null,
   "id": "b01f4dd3-5b90-4116-aa62-ae04e0d9c1e8",
   "metadata": {},
   "outputs": [],
   "source": []
  }
 ],
 "metadata": {
  "kernelspec": {
   "display_name": "Python 3 (ipykernel)",
   "language": "python",
   "name": "python3"
  },
  "language_info": {
   "codemirror_mode": {
    "name": "ipython",
    "version": 3
   },
   "file_extension": ".py",
   "mimetype": "text/x-python",
   "name": "python",
   "nbconvert_exporter": "python",
   "pygments_lexer": "ipython3",
   "version": "3.12.7"
  }
 },
 "nbformat": 4,
 "nbformat_minor": 5
}
